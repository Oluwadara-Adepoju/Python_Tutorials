{
 "cells": [
  {
   "cell_type": "markdown",
   "id": "16292c52-01ab-423b-a157-4edb82719f86",
   "metadata": {},
   "source": [
    "## Machine Learning"
   ]
  },
  {
   "cell_type": "markdown",
   "id": "c36eff53-14f6-49ca-b909-11825034fdbd",
   "metadata": {},
   "source": [
    "#### Mean, Median, Mode"
   ]
  },
  {
   "cell_type": "code",
   "execution_count": null,
   "id": "fd9d1c81-8f17-4666-9890-e2d3044520c5",
   "metadata": {},
   "outputs": [],
   "source": []
  },
  {
   "cell_type": "code",
   "execution_count": 3,
   "id": "accd0902-aff1-4806-8db7-51f9461f5088",
   "metadata": {
    "tags": []
   },
   "outputs": [],
   "source": [
    "import numpy as np\n",
    "age = [23,35,67,87,21,56,22,56,78,45,28,29,22]"
   ]
  },
  {
   "cell_type": "code",
   "execution_count": 4,
   "id": "fef1fd3f-22ea-40ee-b575-e4ec6a59d8e1",
   "metadata": {},
   "outputs": [
    {
     "data": {
      "text/plain": [
       "43.76923076923077"
      ]
     },
     "execution_count": 4,
     "metadata": {},
     "output_type": "execute_result"
    }
   ],
   "source": [
    "mean = np.mean(age)\n",
    "mean"
   ]
  },
  {
   "cell_type": "code",
   "execution_count": 6,
   "id": "dc9ae1ff-dae6-48d9-8b8a-9c04719f385b",
   "metadata": {},
   "outputs": [
    {
     "data": {
      "text/plain": [
       "35.0"
      ]
     },
     "execution_count": 6,
     "metadata": {},
     "output_type": "execute_result"
    }
   ],
   "source": [
    "# Median\n",
    "median = np.median(age)\n",
    "median"
   ]
  },
  {
   "cell_type": "code",
   "execution_count": 7,
   "id": "cd2c77fb-9117-47ce-8a7d-68f38cf9afd8",
   "metadata": {},
   "outputs": [
    {
     "data": {
      "text/plain": [
       "13"
      ]
     },
     "execution_count": 7,
     "metadata": {},
     "output_type": "execute_result"
    }
   ],
   "source": [
    "len(age)"
   ]
  },
  {
   "cell_type": "code",
   "execution_count": 9,
   "id": "62c54bb7-ea34-4d23-8dff-d9f7cd9aef29",
   "metadata": {},
   "outputs": [
    {
     "data": {
      "text/plain": [
       "ModeResult(mode=array([22]), count=array([2]))"
      ]
     },
     "execution_count": 9,
     "metadata": {},
     "output_type": "execute_result"
    }
   ],
   "source": [
    "## Mode\n",
    "from scipy import stats\n",
    "mode = stats.mode(age)\n",
    "mode"
   ]
  },
  {
   "cell_type": "markdown",
   "id": "2815b0ad-a9e2-4ef3-a97e-e861acc9b27a",
   "metadata": {},
   "source": [
    "### Standard Deviation\n"
   ]
  },
  {
   "cell_type": "code",
   "execution_count": 13,
   "id": "da273b43-98f6-4ab4-ab3d-c33cf9ad5db3",
   "metadata": {},
   "outputs": [],
   "source": [
    "import pandas as pd\n",
    "import matplotlib.pyplot as plt\n",
    "%matplotlib inline"
   ]
  },
  {
   "cell_type": "code",
   "execution_count": 14,
   "id": "6de41e2d-87a8-42d9-92ab-52ab1749cf78",
   "metadata": {},
   "outputs": [
    {
     "data": {
      "image/png": "[encoded data removed]",
      "text/plain": [
       "<Figure size 432x288 with 1 Axes>"
      ]
     },
     "metadata": {
      "needs_background": "light"
     },
     "output_type": "display_data"
    }
   ],
   "source": [
    "plt.plot(age)\n",
    "plt.show()"
   ]
  },
  {
   "cell_type": "code",
   "execution_count": 15,
   "id": "6f345e7b-ee45-4866-8989-c7629ae69486",
   "metadata": {},
   "outputs": [
    {
     "name": "stderr",
     "output_type": "stream",
     "text": [
      "C:\\Users\\DELL\\Anaconda3\\lib\\site-packages\\seaborn\\distributions.py:2619: FutureWarning: `distplot` is a deprecated function and will be removed in a future version. Please adapt your code to use either `displot` (a figure-level function with similar flexibility) or `histplot` (an axes-level function for histograms).\n",
      "  warnings.warn(msg, FutureWarning)\n"
     ]
    },
    {
     "data": {
      "image/png": "[encoded data removed]",
      "text/plain": [
       "<Figure size 432x288 with 1 Axes>"
      ]
     },
     "metadata": {
      "needs_background": "light"
     },
     "output_type": "display_data"
    }
   ],
   "source": [
    "import seaborn as sns\n",
    "sns.distplot(age,kde=True)\n",
    "plt.show()"
   ]
  },
  {
   "cell_type": "code",
   "execution_count": 17,
   "id": "c1df3b93-5b3d-4c51-87fd-d33f5452399f",
   "metadata": {},
   "outputs": [
    {
     "data": {
      "text/plain": [
       "22.05292182334907"
      ]
     },
     "execution_count": 17,
     "metadata": {},
     "output_type": "execute_result"
    }
   ],
   "source": [
    "## Standard Deviation\n",
    "std = np.std(age)\n",
    "std"
   ]
  },
  {
   "cell_type": "code",
   "execution_count": 19,
   "id": "c8b3bb35-fc25-493a-b93a-af3fc0b053e7",
   "metadata": {},
   "outputs": [
    {
     "data": {
      "text/plain": [
       "486.33136094674563"
      ]
     },
     "execution_count": 19,
     "metadata": {},
     "output_type": "execute_result"
    }
   ],
   "source": [
    "# Variance\n",
    "var = np.var(age)\n",
    "var"
   ]
  },
  {
   "cell_type": "code",
   "execution_count": 20,
   "id": "b1ac54e8-601d-4d52-884a-08e993caee3c",
   "metadata": {},
   "outputs": [
    {
     "data": {
      "text/plain": [
       "22.05292182334907"
      ]
     },
     "execution_count": 20,
     "metadata": {},
     "output_type": "execute_result"
    }
   ],
   "source": [
    "sqr = np.sqrt(var)\n",
    "sqr # ----->  standard Deviation of age"
   ]
  },
  {
   "cell_type": "code",
   "execution_count": null,
   "id": "12ae3adc-cb02-479f-9bb0-c631a8483410",
   "metadata": {},
   "outputs": [],
   "source": []
  },
  {
   "cell_type": "code",
   "execution_count": null,
   "id": "e97caf55-5b78-42f5-9121-ba6218fdc23c",
   "metadata": {},
   "outputs": [],
   "source": []
  },
  {
   "cell_type": "code",
   "execution_count": null,
   "id": "1bf09c8a-db1e-4846-935d-00e466b5cb81",
   "metadata": {},
   "outputs": [],
   "source": []
  },
  {
   "cell_type": "code",
   "execution_count": null,
   "id": "2f32dceb-5bdc-4e54-9fce-172fee29c459",
   "metadata": {},
   "outputs": [],
   "source": []
  },
  {
   "cell_type": "code",
   "execution_count": null,
   "id": "c14f901c-bf79-4a81-b92b-e0d80f993bb1",
   "metadata": {},
   "outputs": [],
   "source": []
  }
 ],
 "metadata": {
  "kernelspec": {
   "display_name": "Python 3 (ipykernel)",
   "language": "python",
   "name": "python3"
  },
  "language_info": {
   "codemirror_mode": {
    "name": "ipython",
    "version": 3
   },
   "file_extension": ".py",
   "mimetype": "text/x-python",
   "name": "python",
   "nbconvert_exporter": "python",
   "pygments_lexer": "ipython3",
   "version": "3.8.8"
  }
 },
 "nbformat": 4,
 "nbformat_minor": 5
}
