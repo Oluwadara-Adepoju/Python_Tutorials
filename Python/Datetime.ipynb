{
 "cells": [
  {
   "cell_type": "markdown",
   "id": "fa9f10cf-74f9-4ec0-a20c-79061ff0dfb6",
   "metadata": {},
   "source": [
    "## Datetime"
   ]
  },
  {
   "cell_type": "code",
   "execution_count": 1,
   "id": "f6ce4e37-6a04-4d63-8a09-660ce1fc0a68",
   "metadata": {},
   "outputs": [
    {
     "name": "stdout",
     "output_type": "stream",
     "text": [
      "2022-05-26 13:50:02.089997\n"
     ]
    }
   ],
   "source": [
    "import datetime\n",
    "\n",
    "x = datetime.datetime.now()\n",
    "print(x)"
   ]
  },
  {
   "cell_type": "code",
   "execution_count": 2,
   "id": "019ae48f-1655-42d6-ad39-1aa838ccd72e",
   "metadata": {},
   "outputs": [
    {
     "name": "stdout",
     "output_type": "stream",
     "text": [
      "Fri\n"
     ]
    }
   ],
   "source": [
    "x = datetime.datetime(2020, 9, 11)\n",
    "\n",
    "print(x.strftime(\"%a\"))"
   ]
  },
  {
   "cell_type": "code",
   "execution_count": 3,
   "id": "759f66ee-80b8-45ab-89e2-32dc797c7d6c",
   "metadata": {},
   "outputs": [
    {
     "name": "stdout",
     "output_type": "stream",
     "text": [
      "09/11/20\n"
     ]
    }
   ],
   "source": [
    "x = datetime.datetime(2020, 9, 11)\n",
    "\n",
    "print(x.strftime(\"%x\"))"
   ]
  },
  {
   "cell_type": "markdown",
   "id": "7fd244c2-2057-4169-a231-3bc5cddc9378",
   "metadata": {},
   "source": [
    "### Maths"
   ]
  },
  {
   "cell_type": "code",
   "execution_count": 4,
   "id": "436a892c-63a8-4158-b476-82ba5c3219bf",
   "metadata": {},
   "outputs": [
    {
     "name": "stdout",
     "output_type": "stream",
     "text": [
      "2\n"
     ]
    }
   ],
   "source": [
    "#Absolute a.k.a Abs\n",
    "a=abs(-2)\n",
    "print(a)"
   ]
  },
  {
   "cell_type": "code",
   "execution_count": 5,
   "id": "626142cc-816c-4f0a-97c1-9418dce034d4",
   "metadata": {},
   "outputs": [
    {
     "name": "stdout",
     "output_type": "stream",
     "text": [
      "243\n"
     ]
    }
   ],
   "source": [
    "x = pow(3, 5)\n",
    "\n",
    "print(x)"
   ]
  },
  {
   "cell_type": "code",
   "execution_count": 6,
   "id": "1fb7883c-6e91-4de8-a7a2-6ed590229ce8",
   "metadata": {},
   "outputs": [
    {
     "name": "stdout",
     "output_type": "stream",
     "text": [
      "8.0\n"
     ]
    }
   ],
   "source": [
    "import math\n",
    "\n",
    "x = math.sqrt(64)\n",
    "\n",
    "print(x)"
   ]
  },
  {
   "cell_type": "code",
   "execution_count": 7,
   "id": "6118ff62-8d15-4d80-be68-9deca2611763",
   "metadata": {},
   "outputs": [
    {
     "name": "stdout",
     "output_type": "stream",
     "text": [
      "2\n",
      "1\n"
     ]
    }
   ],
   "source": [
    "import math\n",
    "\n",
    "x = math.ceil(1.1)\n",
    "y = math.floor(1.1)\n",
    "\n",
    "print(x) # returns 2\n",
    "print(y) # returns 1"
   ]
  },
  {
   "cell_type": "code",
   "execution_count": null,
   "id": "c271aeea-51e9-4ac2-a17c-bedb430824ec",
   "metadata": {},
   "outputs": [],
   "source": [
    "import math\n",
    "\n",
    "x = math.pi\n",
    "\n",
    "print(x)"
   ]
  },
  {
   "cell_type": "markdown",
   "id": "cc95b40f-b90f-4f48-afac-94debe2bec0f",
   "metadata": {},
   "source": [
    "## Json"
   ]
  },
  {
   "cell_type": "code",
   "execution_count": 11,
   "id": "98343c1d-d810-4d5a-944a-c429d1b3e69a",
   "metadata": {},
   "outputs": [],
   "source": [
    " a= {\n",
    "        \"id\": 3041,\n",
    "        \"name\": \"Martin Wilson\",\n",
    "        \"email\": \"ravencomputer667@gmail.com\",\n",
    "        \"password\": \"martin@123\",\n",
    "        \"about\": \"Travelers, \",\n",
    "        \"token\": \"18ceb759-241c-43d3-a9eb-5344ea2ef1d9\",\n",
    "        \"country\": None,\n",
    "        \"location\": \"Moorgate Station (Stop N), London EC2Y 5EJ, UK\",\n",
    "        \"lng\": 0,\n",
    "        \"lat\": 0,\n",
    "        \"dob\": \"2019-12-11T12:29:13\",\n",
    "        \"gender\": 1,\n",
    "        \"userType\": 1,\n",
    "        \"userStatus\": 1,\n",
    "        \"profilePicture\": \"Images/023d1a36-ef5e-4248-a9a1-900069fe3f28.png\",\n",
    "        \"coverPicture\": \"Images/0e773003-964f-42c8-b591-b33fa0563a85.png\",\n",
    "        \"enablefollowme\": True,\n",
    "        \"sendmenotifications\": True,\n",
    "        \"sendTextmessages\": False,\n",
    "        \"enabletagging\": False,\n",
    "        \"createdAt\": \"2019-12-26T06:22:36.1180762\",\n",
    "        \"updatedAt\": \"2019-12-26T06:29:14.6591852\",\n",
    "        \"livelng\": 0,\n",
    "        \"livelat\": 0,\n",
    "        \"liveLocation\": None,\n",
    "        \"creditBalance\": 18,\n",
    "        \"myCash\": 0\n",
    "    },"
   ]
  },
  {
   "cell_type": "code",
   "execution_count": 13,
   "id": "f485c8b5-be05-484e-86ef-b2906c6556c6",
   "metadata": {},
   "outputs": [
    {
     "name": "stdout",
     "output_type": "stream",
     "text": [
      "[{\"id\": 3041, \"name\": \"Martin Wilson\", \"email\": \"ravencomputer667@gmail.com\", \"password\": \"martin@123\", \"about\": \"Travelers, \", \"token\": \"18ceb759-241c-43d3-a9eb-5344ea2ef1d9\", \"country\": null, \"location\": \"Moorgate Station (Stop N), London EC2Y 5EJ, UK\", \"lng\": 0, \"lat\": 0, \"dob\": \"2019-12-11T12:29:13\", \"gender\": 1, \"userType\": 1, \"userStatus\": 1, \"profilePicture\": \"Images/023d1a36-ef5e-4248-a9a1-900069fe3f28.png\", \"coverPicture\": \"Images/0e773003-964f-42c8-b591-b33fa0563a85.png\", \"enablefollowme\": true, \"sendmenotifications\": true, \"sendTextmessages\": false, \"enabletagging\": false, \"createdAt\": \"2019-12-26T06:22:36.1180762\", \"updatedAt\": \"2019-12-26T06:29:14.6591852\", \"livelng\": 0, \"livelat\": 0, \"liveLocation\": null, \"creditBalance\": 18, \"myCash\": 0}]\n"
     ]
    }
   ],
   "source": [
    "import json\n",
    "b = json.dumps(a)\n",
    "print(b)"
   ]
  },
  {
   "cell_type": "code",
   "execution_count": 14,
   "id": "0c5c3bde-164e-44b6-8080-ea790ffbd505",
   "metadata": {},
   "outputs": [
    {
     "name": "stdout",
     "output_type": "stream",
     "text": [
      "[{'id': 3041, 'name': 'Martin Wilson', 'email': 'ravencomputer667@gmail.com', 'password': 'martin@123', 'about': 'Travelers, ', 'token': '18ceb759-241c-43d3-a9eb-5344ea2ef1d9', 'country': None, 'location': 'Moorgate Station (Stop N), London EC2Y 5EJ, UK', 'lng': 0, 'lat': 0, 'dob': '2019-12-11T12:29:13', 'gender': 1, 'userType': 1, 'userStatus': 1, 'profilePicture': 'Images/023d1a36-ef5e-4248-a9a1-900069fe3f28.png', 'coverPicture': 'Images/0e773003-964f-42c8-b591-b33fa0563a85.png', 'enablefollowme': True, 'sendmenotifications': True, 'sendTextmessages': False, 'enabletagging': False, 'createdAt': '2019-12-26T06:22:36.1180762', 'updatedAt': '2019-12-26T06:29:14.6591852', 'livelng': 0, 'livelat': 0, 'liveLocation': None, 'creditBalance': 18, 'myCash': 0}]\n"
     ]
    }
   ],
   "source": [
    "c = json.loads(b)\n",
    "print(c)"
   ]
  },
  {
   "cell_type": "code",
   "execution_count": 19,
   "id": "029b4715-c8fa-48c6-967a-2f13b24bdc42",
   "metadata": {},
   "outputs": [
    {
     "name": "stdout",
     "output_type": "stream",
     "text": [
      "{\"name\": \"John\", \"age\": 30, \"married\": true, \"divorced\": false, \"children\": [\"Ann\", \"Billy\"], \"pets\": null, \"cars\": [{\"model\": \"BMW 230\", \"mpg\": 27.5}, {\"model\": \"Ford Edge\", \"mpg\": 24.1}]}\n"
     ]
    }
   ],
   "source": [
    "x = {\n",
    "  \"name\": \"John\",\n",
    "  \"age\": 30,\n",
    "  \"married\": True,\n",
    "  \"divorced\": False,\n",
    "  \"children\": (\"Ann\",\"Billy\"),\n",
    "  \"pets\": None,\n",
    "  \"cars\": [\n",
    "    {\"model\": \"BMW 230\", \"mpg\": 27.5},\n",
    "    {\"model\": \"Ford Edge\", \"mpg\": 24.1}\n",
    "  ]\n",
    "}\n",
    "\n",
    "print(json.dumps(x))"
   ]
  },
  {
   "cell_type": "code",
   "execution_count": 20,
   "id": "620aa1c9-c359-4f91-b08e-b4852183ead5",
   "metadata": {},
   "outputs": [
    {
     "name": "stdout",
     "output_type": "stream",
     "text": [
      "{\n",
      "    \"name\": \"John\",\n",
      "    \"age\": 30,\n",
      "    \"married\": true,\n",
      "    \"divorced\": false,\n",
      "    \"children\": [\n",
      "        \"Ann\",\n",
      "        \"Billy\"\n",
      "    ],\n",
      "    \"pets\": null,\n",
      "    \"cars\": [\n",
      "        {\n",
      "            \"model\": \"BMW 230\",\n",
      "            \"mpg\": 27.5\n",
      "        },\n",
      "        {\n",
      "            \"model\": \"Ford Edge\",\n",
      "            \"mpg\": 24.1\n",
      "        }\n",
      "    ]\n",
      "}\n"
     ]
    }
   ],
   "source": [
    "print(json.dumps(x, indent=4))"
   ]
  },
  {
   "cell_type": "code",
   "execution_count": 21,
   "id": "92cf441c-dda6-4aee-bccf-e81e74e2a4a3",
   "metadata": {},
   "outputs": [
    {
     "name": "stdout",
     "output_type": "stream",
     "text": [
      "{\n",
      "    \"age\": 30,\n",
      "    \"cars\": [\n",
      "        {\n",
      "            \"model\": \"BMW 230\",\n",
      "            \"mpg\": 27.5\n",
      "        },\n",
      "        {\n",
      "            \"model\": \"Ford Edge\",\n",
      "            \"mpg\": 24.1\n",
      "        }\n",
      "    ],\n",
      "    \"children\": [\n",
      "        \"Ann\",\n",
      "        \"Billy\"\n",
      "    ],\n",
      "    \"divorced\": false,\n",
      "    \"married\": true,\n",
      "    \"name\": \"John\",\n",
      "    \"pets\": null\n",
      "}\n"
     ]
    }
   ],
   "source": [
    "print(json.dumps(x, indent=4, sort_keys=True))"
   ]
  },
  {
   "cell_type": "markdown",
   "id": "9060f309-0c46-4f61-bb08-0e44af63c9b6",
   "metadata": {},
   "source": [
    "## Python RegEx"
   ]
  },
  {
   "cell_type": "code",
   "execution_count": 24,
   "id": "ee8d8ad4-d2ba-4982-94aa-099ea5b1f541",
   "metadata": {},
   "outputs": [
    {
     "name": "stdout",
     "output_type": "stream",
     "text": [
      "YES! We have a match!\n"
     ]
    }
   ],
   "source": [
    "import re\n",
    "\n",
    "txt = \"The rain in Spain\"\n",
    "x = re.search(\"[a-e]\", txt)\n",
    "if x:\n",
    "    print(\"YES! We have a match!\")\n",
    "else:\n",
    "    print(\"No match\")\n"
   ]
  },
  {
   "cell_type": "code",
   "execution_count": 28,
   "id": "3644b848-e5cf-4d3c-a19c-7f1283d325d5",
   "metadata": {},
   "outputs": [
    {
     "data": {
      "text/plain": [
       "['The rain in Spain']"
      ]
     },
     "execution_count": 28,
     "metadata": {},
     "output_type": "execute_result"
    }
   ],
   "source": [
    "sp = re.split('/t',\"The rain in Spain\")\n",
    "sp"
   ]
  },
  {
   "cell_type": "markdown",
   "id": "db62596d-4cc0-4367-813e-0e00b5ad4c5c",
   "metadata": {},
   "source": [
    "### Try Except"
   ]
  },
  {
   "cell_type": "code",
   "execution_count": null,
   "id": "f14673da-8a3a-4f69-b0b2-f35160f73908",
   "metadata": {},
   "outputs": [],
   "source": [
    "x = -1\n",
    "\n",
    "if x < 0:\n",
    "    raise Exception(\"Sorry, no numbers below zero\")"
   ]
  },
  {
   "cell_type": "code",
   "execution_count": null,
   "id": "2d0d57c7-d89f-447b-8c52-80ddbb6480ee",
   "metadata": {},
   "outputs": [],
   "source": []
  }
 ],
 "metadata": {
  "kernelspec": {
   "display_name": "Python 3 (ipykernel)",
   "language": "python",
   "name": "python3"
  },
  "language_info": {
   "codemirror_mode": {
    "name": "ipython",
    "version": 3
   },
   "file_extension": ".py",
   "mimetype": "text/x-python",
   "name": "python",
   "nbconvert_exporter": "python",
   "pygments_lexer": "ipython3",
   "version": "3.8.8"
  }
 },
 "nbformat": 4,
 "nbformat_minor": 5
}
