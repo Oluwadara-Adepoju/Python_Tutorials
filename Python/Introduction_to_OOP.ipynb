{
 "cells": [
  {
   "cell_type": "markdown",
   "id": "220c1401-714b-4da0-94d8-f437bdb7cd21",
   "metadata": {},
   "source": [
    "## Python Classes and Objects"
   ]
  },
  {
   "cell_type": "code",
   "execution_count": 7,
   "id": "611ffdb7-044e-4783-b199-8fdd7bfe403d",
   "metadata": {},
   "outputs": [],
   "source": [
    "# We create a class using class keyword\n",
    "\n",
    "class Name:\n",
    "    a ='My name is Dara'\n",
    "\n"
   ]
  },
  {
   "cell_type": "code",
   "execution_count": 8,
   "id": "40865529-5794-45c1-ad06-f94ab44e36df",
   "metadata": {},
   "outputs": [
    {
     "name": "stdout",
     "output_type": "stream",
     "text": [
      "My name is Dara\n"
     ]
    }
   ],
   "source": [
    "# To create an object\n",
    "j = Name()\n",
    "print(j.a)"
   ]
  },
  {
   "cell_type": "code",
   "execution_count": 9,
   "id": "a9c8068c-0849-42f5-9451-ccabee822896",
   "metadata": {},
   "outputs": [
    {
     "name": "stdout",
     "output_type": "stream",
     "text": [
      "Turkey\n",
      "Instabul\n"
     ]
    }
   ],
   "source": [
    "class Places:\n",
    "    def __init__(self,country,city):\n",
    "        self.country = country\n",
    "        self.city = city\n",
    "        \n",
    "insta =Places('Turkey','Instabul')\n",
    "print(insta.country)\n",
    "print(insta.city)"
   ]
  },
  {
   "cell_type": "code",
   "execution_count": 12,
   "id": "91cae438-3705-404f-9af2-eac0dfd204e3",
   "metadata": {},
   "outputs": [
    {
     "name": "stdout",
     "output_type": "stream",
     "text": [
      "Turkey\n",
      "Instabul\n",
      "Ankara\n"
     ]
    }
   ],
   "source": [
    "class Places:\n",
    "    def __init__(self,country,city):\n",
    "        self.country = country\n",
    "        self.city = city\n",
    "    \n",
    "    def welcome_msg(self):\n",
    "        print('Welcome to '+self.city+','+self.country )\n",
    "    def add_city(self,new_city):\n",
    "            self.new_city = new_city\n",
    "insta =Places('Turkey','Instabul')\n",
    "print(insta.country)\n",
    "print(insta.city)\n",
    "\n",
    "insta.add_city('Ankara')\n",
    "print(insta.new_city)"
   ]
  },
  {
   "cell_type": "code",
   "execution_count": 13,
   "id": "e60d83af-e3f6-48af-ab6f-180393b5de52",
   "metadata": {},
   "outputs": [
    {
     "data": {
      "text/plain": [
       "['rice', 'beans', 'stew', 'Dodo']"
      ]
     },
     "execution_count": 13,
     "metadata": {},
     "output_type": "execute_result"
    }
   ],
   "source": [
    "# We have a list\n",
    "food =['rice','beans','stew']\n",
    "food.append('Dodo')\n",
    "food"
   ]
  },
  {
   "cell_type": "code",
   "execution_count": 14,
   "id": "ae3b27b2-3c59-4e74-9ad5-5640d64171aa",
   "metadata": {},
   "outputs": [
    {
     "name": "stdout",
     "output_type": "stream",
     "text": [
      "Turkey\n",
      "Instabul\n",
      "Welcome to Instabul,Turkey\n",
      "Ankara\n"
     ]
    }
   ],
   "source": [
    "class Places:\n",
    "    def __init__(self,country,city):\n",
    "        self.country = country\n",
    "        self.city = city\n",
    "    \n",
    "    def welcome_msg(self):\n",
    "        print('Welcome to '+self.city+','+self.country )\n",
    "    def add_city(self,new_city):\n",
    "            self.new_city = new_city\n",
    "insta =Places('Turkey','Instabul')\n",
    "print(insta.country)\n",
    "print(insta.city)\n",
    "insta.welcome_msg()\n",
    "insta.add_city('Ankara')\n",
    "print(insta.new_city)"
   ]
  },
  {
   "cell_type": "markdown",
   "id": "07f28e92-4140-4b74-b8ce-7a1d24725fbe",
   "metadata": {},
   "source": [
    "### Self parameter"
   ]
  },
  {
   "cell_type": "code",
   "execution_count": null,
   "id": "464d6a05-9618-4205-84b8-7642804d6d9c",
   "metadata": {
    "collapsed": true,
    "jupyter": {
     "outputs_hidden": true
    },
    "tags": []
   },
   "outputs": [],
   "source": [
    "vien = Places('Italy' ,'Vienna')# the current instance here is whatever we put and define it as\n",
    "print(vien.country)\n",
    "print(vien.city)"
   ]
  },
  {
   "cell_type": "markdown",
   "id": "26aef998-8d72-4914-bb86-ab350728e986",
   "metadata": {},
   "source": [
    "## Modifying Object properites"
   ]
  },
  {
   "cell_type": "code",
   "execution_count": 16,
   "id": "57c15c9e-a455-406f-953e-5c4cd838604f",
   "metadata": {},
   "outputs": [
    {
     "name": "stdout",
     "output_type": "stream",
     "text": [
      "The updated country is Brazil\n"
     ]
    }
   ],
   "source": [
    "insta.country ='Brazil'\n",
    "print('The updated country is '+insta.country )"
   ]
  },
  {
   "cell_type": "markdown",
   "id": "f2e06672-c18a-4908-80fa-a43516f828e3",
   "metadata": {},
   "source": [
    "## Deleting Object properties"
   ]
  },
  {
   "cell_type": "code",
   "execution_count": null,
   "id": "43a9e839-5f7f-4287-8ef1-c77d84e6b578",
   "metadata": {},
   "outputs": [],
   "source": [
    "del insta.country\n",
    "print(insta.country)"
   ]
  },
  {
   "cell_type": "code",
   "execution_count": 18,
   "id": "02225786-b6f6-45ce-82f1-f460e5c7b143",
   "metadata": {},
   "outputs": [
    {
     "name": "stdout",
     "output_type": "stream",
     "text": [
      "Turkey\n"
     ]
    }
   ],
   "source": [
    "insta.country ='Turkey'\n",
    "print(insta.country)"
   ]
  },
  {
   "cell_type": "markdown",
   "id": "0ad9dc4a-1249-407c-9654-edc5dc14038d",
   "metadata": {},
   "source": [
    "## Pass statement\n",
    "\n",
    "Pass statement can also be used when creating classes to avoid errors\n"
   ]
  },
  {
   "cell_type": "code",
   "execution_count": 20,
   "id": "267035e8-f091-4594-97c9-5210725ad9c0",
   "metadata": {},
   "outputs": [],
   "source": [
    "class name:\n",
    "    pass"
   ]
  },
  {
   "cell_type": "code",
   "execution_count": null,
   "id": "30ba2e14-66e9-43d7-8f42-ad62acb17a4c",
   "metadata": {},
   "outputs": [],
   "source": []
  }
 ],
 "metadata": {
  "kernelspec": {
   "display_name": "Python 3 (ipykernel)",
   "language": "python",
   "name": "python3"
  },
  "language_info": {
   "codemirror_mode": {
    "name": "ipython",
    "version": 3
   },
   "file_extension": ".py",
   "mimetype": "text/x-python",
   "name": "python",
   "nbconvert_exporter": "python",
   "pygments_lexer": "ipython3",
   "version": "3.7.4"
  }
 },
 "nbformat": 4,
 "nbformat_minor": 5
}
