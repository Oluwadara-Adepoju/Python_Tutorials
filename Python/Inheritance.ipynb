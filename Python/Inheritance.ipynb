{
 "cells": [
  {
   "cell_type": "markdown",
   "id": "4cb58b63-bd52-4e14-a163-11b2654e1caf",
   "metadata": {},
   "source": [
    "## Inheritance"
   ]
  },
  {
   "cell_type": "code",
   "execution_count": 1,
   "id": "b596b6a9-f9a5-49a3-b56f-5da1929604a6",
   "metadata": {},
   "outputs": [],
   "source": [
    "class human:\n",
    "    def __init__(self,name,religion):\n",
    "        self.name =name\n",
    "        self.religion= religion\n",
    "        \n",
    "    def get_religion(self):\n",
    "        return self.religion\n",
    "        print(self.religion)\n",
    "        \n",
    "        \n",
    "class race(human):\n",
    "    \n",
    "    pass"
   ]
  },
  {
   "cell_type": "code",
   "execution_count": 2,
   "id": "5fb5fd6f-9b60-434e-a24b-8e3171a5ec84",
   "metadata": {},
   "outputs": [
    {
     "data": {
      "text/plain": [
       "'Jew'"
      ]
     },
     "execution_count": 2,
     "metadata": {},
     "output_type": "execute_result"
    }
   ],
   "source": [
    "b = human('bayo','Jew')\n",
    "b.get_religion()\n",
    "\n"
   ]
  },
  {
   "cell_type": "code",
   "execution_count": 3,
   "id": "648f1c1e-8cf3-4050-9f86-e41824cd51dd",
   "metadata": {},
   "outputs": [
    {
     "data": {
      "text/plain": [
       "'Hindu'"
      ]
     },
     "execution_count": 3,
     "metadata": {},
     "output_type": "execute_result"
    }
   ],
   "source": [
    "c=race('sade','Hindu')\n",
    "c.get_religion()"
   ]
  },
  {
   "cell_type": "code",
   "execution_count": 4,
   "id": "8e287bd2-5832-45d2-bd90-5a86e95cabde",
   "metadata": {},
   "outputs": [],
   "source": [
    "class human:\n",
    "    def __init__(self,name,religion):\n",
    "        self.name =name\n",
    "        self.religion= religion\n",
    "        \n",
    "    def get_religion(self):\n",
    "        return self.religion\n",
    "        print(self.religion)\n",
    "        \n",
    "        \n",
    "class race(human):\n",
    "    def __init__ (self, name,race):\n",
    "        self.name =name\n",
    "        self.race = race"
   ]
  },
  {
   "cell_type": "code",
   "execution_count": 5,
   "id": "604841f5-c4ad-4ab6-8ebd-a544ccf72b71",
   "metadata": {},
   "outputs": [
    {
     "ename": "AttributeError",
     "evalue": "'race' object has no attribute 'religion'",
     "output_type": "error",
     "traceback": [
      "\u001b[1;31m---------------------------------------------------------------------------\u001b[0m",
      "\u001b[1;31mAttributeError\u001b[0m                            Traceback (most recent call last)",
      "\u001b[1;32m~\\AppData\\Local\\Temp/ipykernel_7420/3592839619.py\u001b[0m in \u001b[0;36m<module>\u001b[1;34m\u001b[0m\n\u001b[0;32m      1\u001b[0m \u001b[0mc\u001b[0m\u001b[1;33m=\u001b[0m\u001b[0mrace\u001b[0m\u001b[1;33m(\u001b[0m\u001b[1;34m'sade'\u001b[0m\u001b[1;33m,\u001b[0m\u001b[1;34m'Hindu'\u001b[0m\u001b[1;33m)\u001b[0m\u001b[1;33m\u001b[0m\u001b[1;33m\u001b[0m\u001b[0m\n\u001b[1;32m----> 2\u001b[1;33m \u001b[0mc\u001b[0m\u001b[1;33m.\u001b[0m\u001b[0mget_religion\u001b[0m\u001b[1;33m(\u001b[0m\u001b[1;33m)\u001b[0m\u001b[1;33m\u001b[0m\u001b[1;33m\u001b[0m\u001b[0m\n\u001b[0m",
      "\u001b[1;32m~\\AppData\\Local\\Temp/ipykernel_7420/2457809558.py\u001b[0m in \u001b[0;36mget_religion\u001b[1;34m(self)\u001b[0m\n\u001b[0;32m      5\u001b[0m \u001b[1;33m\u001b[0m\u001b[0m\n\u001b[0;32m      6\u001b[0m     \u001b[1;32mdef\u001b[0m \u001b[0mget_religion\u001b[0m\u001b[1;33m(\u001b[0m\u001b[0mself\u001b[0m\u001b[1;33m)\u001b[0m\u001b[1;33m:\u001b[0m\u001b[1;33m\u001b[0m\u001b[1;33m\u001b[0m\u001b[0m\n\u001b[1;32m----> 7\u001b[1;33m         \u001b[1;32mreturn\u001b[0m \u001b[0mself\u001b[0m\u001b[1;33m.\u001b[0m\u001b[0mreligion\u001b[0m\u001b[1;33m\u001b[0m\u001b[1;33m\u001b[0m\u001b[0m\n\u001b[0m\u001b[0;32m      8\u001b[0m         \u001b[0mprint\u001b[0m\u001b[1;33m(\u001b[0m\u001b[0mself\u001b[0m\u001b[1;33m.\u001b[0m\u001b[0mreligion\u001b[0m\u001b[1;33m)\u001b[0m\u001b[1;33m\u001b[0m\u001b[1;33m\u001b[0m\u001b[0m\n\u001b[0;32m      9\u001b[0m \u001b[1;33m\u001b[0m\u001b[0m\n",
      "\u001b[1;31mAttributeError\u001b[0m: 'race' object has no attribute 'religion'"
     ]
    }
   ],
   "source": [
    "c=race('sade','Hindu')#----> you get an error\n",
    "c.get_religion()"
   ]
  },
  {
   "cell_type": "markdown",
   "id": "e797485b-ba63-4724-9e48-24837baef72b",
   "metadata": {},
   "source": [
    "Notice that the error message indicates that there is no attribute for religion because the child no longer inherits from the parent class"
   ]
  },
  {
   "cell_type": "code",
   "execution_count": 12,
   "id": "933ef260-6f2d-47f8-8097-ae6718f1a28e",
   "metadata": {},
   "outputs": [],
   "source": [
    "class human:\n",
    "    def __init__(self,name,religion):\n",
    "        self.name =name\n",
    "        self.religion= religion\n",
    "        \n",
    "    def get_religion(self):\n",
    "        return self.religion\n",
    "        print(self.religion)\n",
    "        \n",
    "        \n",
    "class race(human):#----->race inherits from human class\n",
    "    def __init__ (self, name,religion):\n",
    "        human.__init__(self,name,religion)\n",
    "        self.lname =name\n",
    "        self.race = religion"
   ]
  },
  {
   "cell_type": "code",
   "execution_count": 13,
   "id": "0cc9e8d0-21ff-4da4-b9d1-253188a8b271",
   "metadata": {},
   "outputs": [
    {
     "data": {
      "text/plain": [
       "'Hindu'"
      ]
     },
     "execution_count": 13,
     "metadata": {},
     "output_type": "execute_result"
    }
   ],
   "source": [
    "n = race('Sade','Hindu')\n",
    "n.get_religion()"
   ]
  },
  {
   "cell_type": "code",
   "execution_count": 14,
   "id": "2eadb9b4-46dd-4617-b0ad-7400701c6850",
   "metadata": {},
   "outputs": [],
   "source": [
    "class race(human):\n",
    "    def __init__ (self, name,religion):\n",
    "        super.__init__(self,name,religion)\n",
    "    "
   ]
  },
  {
   "cell_type": "code",
   "execution_count": 27,
   "id": "31ae5392-b50f-4229-b284-3c04af8cf02f",
   "metadata": {},
   "outputs": [],
   "source": [
    "class human:\n",
    "    def __init__(self,name,religion):\n",
    "        self.name =name\n",
    "        self.religion= religion\n",
    "        \n",
    "    def get_religion(self):\n",
    "        return self.religion\n",
    "        print(self.religion)\n",
    "class race(human):\n",
    "    def __init__ (self, name,religion):\n",
    "        super().__init__(name,religion)\n",
    "        self.ethnicity='black'"
   ]
  },
  {
   "cell_type": "code",
   "execution_count": 29,
   "id": "94b368a1-799f-4376-b585-cbec587e1b59",
   "metadata": {},
   "outputs": [
    {
     "name": "stdout",
     "output_type": "stream",
     "text": [
      "black\n"
     ]
    }
   ],
   "source": [
    "v=race('Veronica','christain')\n",
    "print(v.ethnicity)"
   ]
  },
  {
   "cell_type": "code",
   "execution_count": 30,
   "id": "913be9eb-03d9-447b-8917-0d311b35c6ae",
   "metadata": {},
   "outputs": [],
   "source": [
    "class race(human):\n",
    "    def __init__ (self, name,religion,ethnic):\n",
    "        super().__init__(name,religion)\n",
    "        self.ethnicity=ethnic\n",
    "        \n",
    "    def get_race(self):\n",
    "        print('Hello {}, Your ethnic group is {}'.format(self.name,self.ethnicity))"
   ]
  },
  {
   "cell_type": "code",
   "execution_count": 31,
   "id": "c52d5c9a-9b4f-440f-af1f-03656bddd835",
   "metadata": {},
   "outputs": [
    {
     "name": "stdout",
     "output_type": "stream",
     "text": [
      "Hello Paula, Your ethnic group is Asain\n"
     ]
    }
   ],
   "source": [
    "r = race('Paula','Buddist','Asain')\n",
    "r.get_race()"
   ]
  },
  {
   "cell_type": "code",
   "execution_count": 32,
   "id": "79d28bdb-2d72-444a-bf75-4e3f137f5bfa",
   "metadata": {},
   "outputs": [
    {
     "data": {
      "text/plain": [
       "'Buddist'"
      ]
     },
     "execution_count": 32,
     "metadata": {},
     "output_type": "execute_result"
    }
   ],
   "source": [
    "r.get_religion()"
   ]
  },
  {
   "cell_type": "code",
   "execution_count": null,
   "id": "8044e6e9-2646-4023-a270-b637cbe99d3c",
   "metadata": {},
   "outputs": [],
   "source": []
  }
 ],
 "metadata": {
  "kernelspec": {
   "display_name": "Python 3 (ipykernel)",
   "language": "python",
   "name": "python3"
  },
  "language_info": {
   "codemirror_mode": {
    "name": "ipython",
    "version": 3
   },
   "file_extension": ".py",
   "mimetype": "text/x-python",
   "name": "python",
   "nbconvert_exporter": "python",
   "pygments_lexer": "ipython3",
   "version": "3.7.4"
  }
 },
 "nbformat": 4,
 "nbformat_minor": 5
}
