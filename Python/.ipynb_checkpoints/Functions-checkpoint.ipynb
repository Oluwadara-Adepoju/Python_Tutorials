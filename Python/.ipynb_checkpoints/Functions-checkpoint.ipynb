{
 "cells": [
  {
   "cell_type": "markdown",
   "id": "431ce61d-c735-4b2f-8481-d4778a426d0a",
   "metadata": {},
   "source": [
    "## Functions"
   ]
  },
  {
   "cell_type": "code",
   "execution_count": 1,
   "id": "291cfeac-b895-4afe-a4ea-2951bcb150d9",
   "metadata": {},
   "outputs": [
    {
     "name": "stdout",
     "output_type": "stream",
     "text": [
      "This is a new day\n"
     ]
    }
   ],
   "source": [
    "# Its a block of code that carries out an action when called\n",
    "# We use def to create a function \n",
    "\n",
    "def printer(text):\n",
    "    print(text)\n",
    "    \n",
    "printer('This is a new day')\n"
   ]
  },
  {
   "cell_type": "code",
   "execution_count": 2,
   "id": "e0a7992d-9b83-4c3f-82a9-9af359899e00",
   "metadata": {},
   "outputs": [
    {
     "ename": "TypeError",
     "evalue": "printer() missing 1 required positional argument: 'text'",
     "output_type": "error",
     "traceback": [
      "\u001b[1;31m---------------------------------------------------------------------------\u001b[0m",
      "\u001b[1;31mTypeError\u001b[0m                                 Traceback (most recent call last)",
      "\u001b[1;32m~\\AppData\\Local\\Temp/ipykernel_3560/1858709835.py\u001b[0m in \u001b[0;36m<module>\u001b[1;34m\u001b[0m\n\u001b[1;32m----> 1\u001b[1;33m \u001b[0mprinter\u001b[0m\u001b[1;33m(\u001b[0m\u001b[1;33m)\u001b[0m\u001b[1;33m\u001b[0m\u001b[1;33m\u001b[0m\u001b[0m\n\u001b[0m",
      "\u001b[1;31mTypeError\u001b[0m: printer() missing 1 required positional argument: 'text'"
     ]
    }
   ],
   "source": [
    "printer()# note that whenever you create a function , it should follow rules and regulation."
   ]
  },
  {
   "cell_type": "code",
   "execution_count": 3,
   "id": "7039cbf9-8b63-4ae8-b78e-49b88d0add77",
   "metadata": {},
   "outputs": [
    {
     "name": "stdout",
     "output_type": "stream",
     "text": [
      "5\n"
     ]
    }
   ],
   "source": [
    "# addition function\n",
    "\n",
    "def add_up(value1,value2):\n",
    "    result= int(value1)+int(value2)\n",
    "    print(result)\n",
    "\n",
    "add_up(2,3) "
   ]
  },
  {
   "cell_type": "code",
   "execution_count": 4,
   "id": "c6f0cec4-42f2-4f40-a671-783fd6edfc5d",
   "metadata": {},
   "outputs": [
    {
     "name": "stdout",
     "output_type": "stream",
     "text": [
      "Goodafternoon\n"
     ]
    }
   ],
   "source": [
    "def add_up(value1,value2):\n",
    "    result= value1+value2\n",
    "    print(result)\n",
    "\n",
    "add_up('Good','afternoon') "
   ]
  },
  {
   "cell_type": "code",
   "execution_count": 5,
   "id": "a766c647-291b-43a8-939f-2840d0820ef4",
   "metadata": {},
   "outputs": [
    {
     "name": "stdout",
     "output_type": "stream",
     "text": [
      "Welcome to Today's class\n",
      "My name is Oluwadara\n"
     ]
    }
   ],
   "source": [
    "def hello_class():\n",
    "    print(\"Welcome to Today's class\")\n",
    "    print('My name is Oluwadara')\n",
    "hello_class()"
   ]
  },
  {
   "cell_type": "code",
   "execution_count": 6,
   "id": "f88e2026-9e6d-4e0a-a67b-7ca8ccc23b1f",
   "metadata": {},
   "outputs": [
    {
     "ename": "TypeError",
     "evalue": "hello_class() takes 0 positional arguments but 1 was given",
     "output_type": "error",
     "traceback": [
      "\u001b[1;31m---------------------------------------------------------------------------\u001b[0m",
      "\u001b[1;31mTypeError\u001b[0m                                 Traceback (most recent call last)",
      "\u001b[1;32m~\\AppData\\Local\\Temp/ipykernel_3560/3266850471.py\u001b[0m in \u001b[0;36m<module>\u001b[1;34m\u001b[0m\n\u001b[1;32m----> 1\u001b[1;33m \u001b[0mhello_class\u001b[0m\u001b[1;33m(\u001b[0m\u001b[1;34m'dara'\u001b[0m\u001b[1;33m)\u001b[0m\u001b[1;33m\u001b[0m\u001b[1;33m\u001b[0m\u001b[0m\n\u001b[0m",
      "\u001b[1;31mTypeError\u001b[0m: hello_class() takes 0 positional arguments but 1 was given"
     ]
    }
   ],
   "source": [
    "hello_class('dara')"
   ]
  },
  {
   "cell_type": "code",
   "execution_count": 8,
   "id": "8120202b-916e-4597-ada4-14c8e524d0f7",
   "metadata": {},
   "outputs": [
    {
     "name": "stdout",
     "output_type": "stream",
     "text": [
      "10\n"
     ]
    }
   ],
   "source": [
    "add_up(7,3)"
   ]
  },
  {
   "cell_type": "code",
   "execution_count": 10,
   "id": "2f30f625-a74a-40a7-b6d3-e7cc497718fd",
   "metadata": {},
   "outputs": [
    {
     "ename": "TypeError",
     "evalue": "add_up() missing 1 required positional argument: 'value2'",
     "output_type": "error",
     "traceback": [
      "\u001b[1;31m---------------------------------------------------------------------------\u001b[0m",
      "\u001b[1;31mTypeError\u001b[0m                                 Traceback (most recent call last)",
      "\u001b[1;32m~\\AppData\\Local\\Temp/ipykernel_3560/1129241483.py\u001b[0m in \u001b[0;36m<module>\u001b[1;34m\u001b[0m\n\u001b[1;32m----> 1\u001b[1;33m \u001b[0madd_up\u001b[0m\u001b[1;33m(\u001b[0m\u001b[1;36m3\u001b[0m\u001b[1;33m)\u001b[0m\u001b[1;33m\u001b[0m\u001b[1;33m\u001b[0m\u001b[0m\n\u001b[0m",
      "\u001b[1;31mTypeError\u001b[0m: add_up() missing 1 required positional argument: 'value2'"
     ]
    }
   ],
   "source": [
    "add_up(3)\n"
   ]
  },
  {
   "cell_type": "markdown",
   "id": "5b3c6ad3-800e-4b09-a9b5-4cc48310c18c",
   "metadata": {},
   "source": [
    "\n",
    "## Arguments  \n"
   ]
  },
  {
   "cell_type": "code",
   "execution_count": 13,
   "id": "d9e59a4b-880e-448b-9f30-72486fa73983",
   "metadata": {},
   "outputs": [
    {
     "name": "stdout",
     "output_type": "stream",
     "text": [
      "8.0\n"
     ]
    }
   ],
   "source": [
    "# argumnets are paramenters that are placed in the parenthesis\n",
    "\"\"\"\n",
    "\n",
    "def add_up(value1,value2):\n",
    "    result= int(value1)+int(value2)\n",
    "    print(result)\n",
    "value1 and value 2 are examples of arguments    \n",
    "\n",
    "\"\"\"\n",
    "add_up(3.5,4.5)"
   ]
  },
  {
   "cell_type": "code",
   "execution_count": 18,
   "id": "9fc26136-0756-4adf-a2bb-f9823727dcef",
   "metadata": {},
   "outputs": [
    {
     "name": "stdout",
     "output_type": "stream",
     "text": [
      "Dara Adepoju\n"
     ]
    }
   ],
   "source": [
    "def name_function(fname, lname):\n",
    "      print(fname + \" \" + lname)\n",
    "\n",
    "name_function('Dara','Adepoju')"
   ]
  },
  {
   "cell_type": "code",
   "execution_count": 21,
   "id": "81177ae2-54a5-4ade-96d0-5e336df174e0",
   "metadata": {},
   "outputs": [
    {
     "name": "stdout",
     "output_type": "stream",
     "text": [
      "My  second to the last item bought was Books\n"
     ]
    }
   ],
   "source": [
    "def shop_list(*items):\n",
    "    print('My  second to the last item bought was ' +items[-2])\n",
    "    \n",
    "shop_list('Paper','pen','Books','Razor')"
   ]
  },
  {
   "cell_type": "code",
   "execution_count": 22,
   "id": "7bddcf78-3a2e-47d1-bbd4-81b8d356fbb4",
   "metadata": {},
   "outputs": [],
   "source": [
    "# Keyword argumnets\n",
    "\n",
    "def fav_drinks(drink1,drink2, drink3):\n",
    "    print('My second favorite drink is '+drink2)\n",
    "    \n",
    "    \n",
    "    "
   ]
  },
  {
   "cell_type": "code",
   "execution_count": 23,
   "id": "09811ec1-c85b-4d88-a95f-76739163e1f8",
   "metadata": {},
   "outputs": [
    {
     "name": "stdout",
     "output_type": "stream",
     "text": [
      "My second favorite drink is berryblast\n"
     ]
    }
   ],
   "source": [
    "fav_drinks(drink3='Coke',drink2='berryblast',drink1='cranberry')"
   ]
  },
  {
   "cell_type": "markdown",
   "id": "35a730da-cbfd-4f3f-8e4b-8c88ea49ea7c",
   "metadata": {},
   "source": [
    "### Arbituary Keyword argument  **kwargs"
   ]
  },
  {
   "cell_type": "code",
   "execution_count": 25,
   "id": "37b1fb05-e3a8-444f-a71d-a2de8836654a",
   "metadata": {},
   "outputs": [
    {
     "name": "stdout",
     "output_type": "stream",
     "text": [
      "My best friend is Mayowa\n"
     ]
    }
   ],
   "source": [
    "# \n",
    "def friends(**friend):\n",
    "    print('My best friend is ' +friend['best'])\n",
    "          \n",
    "          \n",
    "friends(friend1='Joy',friend2 ='Racheal' , best ='Mayowa')"
   ]
  },
  {
   "cell_type": "markdown",
   "id": "56624489-54c6-43e1-ad53-69eae7634c97",
   "metadata": {},
   "source": [
    "## Default parameter"
   ]
  },
  {
   "cell_type": "code",
   "execution_count": 27,
   "id": "0204125d-74ac-4e7a-89f6-bb7870b91895",
   "metadata": {},
   "outputs": [],
   "source": [
    "def origin (country = \"Nigeria\"):\n",
    "    print(\"I am from \" + country)\n"
   ]
  },
  {
   "cell_type": "code",
   "execution_count": 28,
   "id": "f301777b-0cb5-41e9-be3d-181d51f485f3",
   "metadata": {},
   "outputs": [
    {
     "name": "stdout",
     "output_type": "stream",
     "text": [
      "I am from Sweden\n",
      "I am from India\n",
      "I am from Nigeria\n",
      "I am from Brazil\n"
     ]
    }
   ],
   "source": [
    "\n",
    "origin(\"Sweden\")\n",
    "origin(\"India\")\n",
    "origin()\n",
    "origin(\"Brazil\")"
   ]
  },
  {
   "cell_type": "markdown",
   "id": "b3c4ee02-ef06-4849-bc58-ca684b99a404",
   "metadata": {},
   "source": [
    "## Working with lists"
   ]
  },
  {
   "cell_type": "code",
   "execution_count": 29,
   "id": "23c69dba-3fe7-4273-8eeb-64f142138bfb",
   "metadata": {},
   "outputs": [
    {
     "name": "stdout",
     "output_type": "stream",
     "text": [
      "Book\n",
      "Laptop\n",
      "Money\n",
      "Phone\n",
      "flashlight\n"
     ]
    }
   ],
   "source": [
    "def kit(item):\n",
    "    for a in item:\n",
    "        print(a)\n",
    "\n",
    "tools=['Book','Laptop','Money','Phone','flashlight']\n",
    "\n",
    "kit(tools)"
   ]
  },
  {
   "cell_type": "markdown",
   "id": "06635d41-ab92-4122-9d57-6b851d9407aa",
   "metadata": {},
   "source": [
    " Print functions inside the function"
   ]
  },
  {
   "cell_type": "code",
   "execution_count": 30,
   "id": "ee9293e1-dfbb-4251-b4bc-1a67dc28f21a",
   "metadata": {},
   "outputs": [
    {
     "data": {
      "text/plain": [
       "5.0"
      ]
     },
     "execution_count": 30,
     "metadata": {},
     "output_type": "execute_result"
    }
   ],
   "source": [
    "# with print function inside the function\n",
    "def divide_by_5(x):\n",
    "    return x/5\n",
    "    print(x/5)\n",
    "    \n",
    "divide_by_5(25)"
   ]
  },
  {
   "cell_type": "code",
   "execution_count": 31,
   "id": "b14b85c6-ed0e-45d3-9b0a-35e89596f3f4",
   "metadata": {},
   "outputs": [
    {
     "name": "stdout",
     "output_type": "stream",
     "text": [
      "5.0\n"
     ]
    }
   ],
   "source": [
    "#Without print funtion\n",
    "def divide_by_5(x):\n",
    "    return x/5\n",
    "    \n",
    "    \n",
    "print(divide_by_5(25))"
   ]
  },
  {
   "cell_type": "markdown",
   "id": "e608ad01-e65e-4b61-85c0-d276c3503ba1",
   "metadata": {},
   "source": [
    "## Using the Pass key"
   ]
  },
  {
   "cell_type": "code",
   "execution_count": 35,
   "id": "06f8c583-6a5f-453f-bf81-5ea50c0e40b4",
   "metadata": {},
   "outputs": [
    {
     "ename": "SyntaxError",
     "evalue": "unexpected EOF while parsing (Temp/ipykernel_3560/2152975937.py, line 2)",
     "output_type": "error",
     "traceback": [
      "\u001b[1;36m  File \u001b[1;32m\"C:\\Users\\DELL\\AppData\\Local\\Temp/ipykernel_3560/2152975937.py\"\u001b[1;36m, line \u001b[1;32m2\u001b[0m\n\u001b[1;33m    \u001b[0m\n\u001b[1;37m    ^\u001b[0m\n\u001b[1;31mSyntaxError\u001b[0m\u001b[1;31m:\u001b[0m unexpected EOF while parsing\n"
     ]
    }
   ],
   "source": [
    "def a_function():\n",
    "    "
   ]
  },
  {
   "cell_type": "code",
   "execution_count": 36,
   "id": "5b363914-5cc7-434a-9cc4-3cde15f415f8",
   "metadata": {},
   "outputs": [],
   "source": [
    "def a_function():\n",
    "    pass\n"
   ]
  },
  {
   "cell_type": "code",
   "execution_count": null,
   "id": "c6b2bce5-83a8-48f1-bd53-800ee60810c0",
   "metadata": {},
   "outputs": [],
   "source": []
  }
 ],
 "metadata": {
  "kernelspec": {
   "display_name": "Python 3 (ipykernel)",
   "language": "python",
   "name": "python3"
  },
  "language_info": {
   "codemirror_mode": {
    "name": "ipython",
    "version": 3
   },
   "file_extension": ".py",
   "mimetype": "text/x-python",
   "name": "python",
   "nbconvert_exporter": "python",
   "pygments_lexer": "ipython3",
   "version": "3.7.4"
  }
 },
 "nbformat": 4,
 "nbformat_minor": 5
}
