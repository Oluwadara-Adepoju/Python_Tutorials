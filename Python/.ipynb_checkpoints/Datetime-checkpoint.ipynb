{
 "cells": [
  {
   "cell_type": "markdown",
   "id": "fa9f10cf-74f9-4ec0-a20c-79061ff0dfb6",
   "metadata": {},
   "source": [
    "## Datetime"
   ]
  },
  {
   "cell_type": "code",
   "execution_count": 1,
   "id": "f6ce4e37-6a04-4d63-8a09-660ce1fc0a68",
   "metadata": {},
   "outputs": [
    {
     "name": "stdout",
     "output_type": "stream",
     "text": [
      "2022-05-26 13:50:02.089997\n"
     ]
    }
   ],
   "source": [
    "import datetime\n",
    "\n",
    "x = datetime.datetime.now()\n",
    "print(x)"
   ]
  },
  {
   "cell_type": "code",
   "execution_count": 2,
   "id": "019ae48f-1655-42d6-ad39-1aa838ccd72e",
   "metadata": {},
   "outputs": [
    {
     "name": "stdout",
     "output_type": "stream",
     "text": [
      "Fri\n"
     ]
    }
   ],
   "source": [
    "x = datetime.datetime(2020, 9, 11)\n",
    "\n",
    "print(x.strftime(\"%a\"))"
   ]
  },
  {
   "cell_type": "code",
   "execution_count": 3,
   "id": "759f66ee-80b8-45ab-89e2-32dc797c7d6c",
   "metadata": {},
   "outputs": [
    {
     "name": "stdout",
     "output_type": "stream",
     "text": [
      "09/11/20\n"
     ]
    }
   ],
   "source": [
    "x = datetime.datetime(2020, 9, 11)\n",
    "\n",
    "print(x.strftime(\"%x\"))"
   ]
  },
  {
   "cell_type": "markdown",
   "id": "7fd244c2-2057-4169-a231-3bc5cddc9378",
   "metadata": {},
   "source": [
    "### Maths"
   ]
  },
  {
   "cell_type": "code",
   "execution_count": 4,
   "id": "436a892c-63a8-4158-b476-82ba5c3219bf",
   "metadata": {},
   "outputs": [
    {
     "name": "stdout",
     "output_type": "stream",
     "text": [
      "2\n"
     ]
    }
   ],
   "source": [
    "#Absolute a.k.a Abs\n",
    "a=abs(-2)\n",
    "print(a)"
   ]
  },
  {
   "cell_type": "code",
   "execution_count": 5,
   "id": "626142cc-816c-4f0a-97c1-9418dce034d4",
   "metadata": {},
   "outputs": [
    {
     "name": "stdout",
     "output_type": "stream",
     "text": [
      "243\n"
     ]
    }
   ],
   "source": [
    "x = pow(3, 5)\n",
    "\n",
    "print(x)"
   ]
  },
  {
   "cell_type": "code",
   "execution_count": 6,
   "id": "1fb7883c-6e91-4de8-a7a2-6ed590229ce8",
   "metadata": {},
   "outputs": [
    {
     "name": "stdout",
     "output_type": "stream",
     "text": [
      "8.0\n"
     ]
    }
   ],
   "source": [
    "import math\n",
    "\n",
    "x = math.sqrt(64)\n",
    "\n",
    "print(x)"
   ]
  },
  {
   "cell_type": "code",
   "execution_count": 7,
   "id": "6118ff62-8d15-4d80-be68-9deca2611763",
   "metadata": {},
   "outputs": [
    {
     "name": "stdout",
     "output_type": "stream",
     "text": [
      "2\n",
      "1\n"
     ]
    }
   ],
   "source": [
    "import math\n",
    "\n",
    "x = math.ceil(1.1)\n",
    "y = math.floor(1.1)\n",
    "\n",
    "print(x) # returns 2\n",
    "print(y) # returns 1"
   ]
  },
  {
   "cell_type": "code",
   "execution_count": null,
   "id": "c271aeea-51e9-4ac2-a17c-bedb430824ec",
   "metadata": {},
   "outputs": [],
   "source": [
    "import math\n",
    "\n",
    "x = math.pi\n",
    "\n",
    "print(x)"
   ]
  },
  {
   "cell_type": "markdown",
   "id": "cc95b40f-b90f-4f48-afac-94debe2bec0f",
   "metadata": {},
   "source": [
    "## Json"
   ]
  },
  {
   "cell_type": "code",
   "execution_count": 9,
   "id": "98343c1d-d810-4d5a-944a-c429d1b3e69a",
   "metadata": {},
   "outputs": [
    {
     "ename": "NameError",
     "evalue": "name 'null' is not defined",
     "output_type": "error",
     "traceback": [
      "\u001b[1;31m---------------------------------------------------------------------------\u001b[0m",
      "\u001b[1;31mNameError\u001b[0m                                 Traceback (most recent call last)",
      "\u001b[1;32m~\\AppData\\Local\\Temp/ipykernel_7560/91180059.py\u001b[0m in \u001b[0;36m<module>\u001b[1;34m\u001b[0m\n\u001b[0;32m      6\u001b[0m        \u001b[1;34m\"about\"\u001b[0m\u001b[1;33m:\u001b[0m \u001b[1;34m\"Travelers, \"\u001b[0m\u001b[1;33m,\u001b[0m\u001b[1;33m\u001b[0m\u001b[1;33m\u001b[0m\u001b[0m\n\u001b[0;32m      7\u001b[0m        \u001b[1;34m\"token\"\u001b[0m\u001b[1;33m:\u001b[0m \u001b[1;34m\"18ceb759-241c-43d3-a9eb-5344ea2ef1d9\"\u001b[0m\u001b[1;33m,\u001b[0m\u001b[1;33m\u001b[0m\u001b[1;33m\u001b[0m\u001b[0m\n\u001b[1;32m----> 8\u001b[1;33m        \u001b[1;34m\"country\"\u001b[0m\u001b[1;33m:\u001b[0m \u001b[0mnull\u001b[0m\u001b[1;33m,\u001b[0m\u001b[1;33m\u001b[0m\u001b[1;33m\u001b[0m\u001b[0m\n\u001b[0m\u001b[0;32m      9\u001b[0m        \u001b[1;34m\"location\"\u001b[0m\u001b[1;33m:\u001b[0m \u001b[1;34m\"Moorgate Station (Stop N), London EC2Y 5EJ, UK\"\u001b[0m\u001b[1;33m,\u001b[0m\u001b[1;33m\u001b[0m\u001b[1;33m\u001b[0m\u001b[0m\n\u001b[0;32m     10\u001b[0m        \u001b[1;34m\"lng\"\u001b[0m\u001b[1;33m:\u001b[0m \u001b[1;36m0\u001b[0m\u001b[1;33m,\u001b[0m\u001b[1;33m\u001b[0m\u001b[1;33m\u001b[0m\u001b[0m\n",
      "\u001b[1;31mNameError\u001b[0m: name 'null' is not defined"
     ]
    }
   ],
   "source": [
    " a= {\n",
    "        \"id\": 3041,\n",
    "        \"name\": \"Martin Wilson\",\n",
    "        \"email\": \"ravencomputer667@gmail.com\",\n",
    "        \"password\": \"martin@123\",\n",
    "        \"about\": \"Travelers, \",\n",
    "        \"token\": \"18ceb759-241c-43d3-a9eb-5344ea2ef1d9\",\n",
    "        \"country\": NaN,\n",
    "        \"location\": \"Moorgate Station (Stop N), London EC2Y 5EJ, UK\",\n",
    "        \"lng\": 0,\n",
    "        \"lat\": 0,\n",
    "        \"dob\": \"2019-12-11T12:29:13\",\n",
    "        \"gender\": 1,\n",
    "        \"userType\": 1,\n",
    "        \"userStatus\": 1,\n",
    "        \"profilePicture\": \"Images/023d1a36-ef5e-4248-a9a1-900069fe3f28.png\",\n",
    "        \"coverPicture\": \"Images/0e773003-964f-42c8-b591-b33fa0563a85.png\",\n",
    "        \"enablefollowme\": true,\n",
    "        \"sendmenotifications\": true,\n",
    "        \"sendTextmessages\": false,\n",
    "        \"enabletagging\": false,\n",
    "        \"createdAt\": \"2019-12-26T06:22:36.1180762\",\n",
    "        \"updatedAt\": \"2019-12-26T06:29:14.6591852\",\n",
    "        \"livelng\": 0,\n",
    "        \"livelat\": 0,\n",
    "        \"liveLocation\": NaN,\n",
    "        \"creditBalance\": 18,\n",
    "        \"myCash\": 0\n",
    "    },"
   ]
  },
  {
   "cell_type": "code",
   "execution_count": null,
   "id": "f485c8b5-be05-484e-86ef-b2906c6556c6",
   "metadata": {},
   "outputs": [],
   "source": []
  },
  {
   "cell_type": "code",
   "execution_count": null,
   "id": "0c5c3bde-164e-44b6-8080-ea790ffbd505",
   "metadata": {},
   "outputs": [],
   "source": []
  }
 ],
 "metadata": {
  "kernelspec": {
   "display_name": "Python 3 (ipykernel)",
   "language": "python",
   "name": "python3"
  },
  "language_info": {
   "codemirror_mode": {
    "name": "ipython",
    "version": 3
   },
   "file_extension": ".py",
   "mimetype": "text/x-python",
   "name": "python",
   "nbconvert_exporter": "python",
   "pygments_lexer": "ipython3",
   "version": "3.7.4"
  }
 },
 "nbformat": 4,
 "nbformat_minor": 5
}
