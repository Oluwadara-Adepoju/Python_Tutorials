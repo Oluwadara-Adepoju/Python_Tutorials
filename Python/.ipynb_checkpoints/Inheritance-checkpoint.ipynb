{
 "cells": [
  {
   "cell_type": "markdown",
   "id": "4cb58b63-bd52-4e14-a163-11b2654e1caf",
   "metadata": {},
   "source": [
    "## Inheritance"
   ]
  },
  {
   "cell_type": "code",
   "execution_count": 1,
   "id": "b596b6a9-f9a5-49a3-b56f-5da1929604a6",
   "metadata": {},
   "outputs": [],
   "source": [
    "class human:\n",
    "    def __init__(self,name,religion):\n",
    "        self.name =name\n",
    "        self.religion= religion\n",
    "        \n",
    "    def get_religion(self):\n",
    "        return self.religion\n",
    "        print(self.religion)\n",
    "        \n",
    "        \n",
    "class race(human):\n",
    "    \n",
    "    pass"
   ]
  },
  {
   "cell_type": "code",
   "execution_count": 2,
   "id": "5fb5fd6f-9b60-434e-a24b-8e3171a5ec84",
   "metadata": {},
   "outputs": [
    {
     "data": {
      "text/plain": [
       "'Jew'"
      ]
     },
     "execution_count": 2,
     "metadata": {},
     "output_type": "execute_result"
    }
   ],
   "source": [
    "b = human('bayo','Jew')\n",
    "b.get_religion()\n",
    "\n"
   ]
  },
  {
   "cell_type": "code",
   "execution_count": 3,
   "id": "648f1c1e-8cf3-4050-9f86-e41824cd51dd",
   "metadata": {},
   "outputs": [
    {
     "data": {
      "text/plain": [
       "'Hindu'"
      ]
     },
     "execution_count": 3,
     "metadata": {},
     "output_type": "execute_result"
    }
   ],
   "source": [
    "c=race('sade','Hindu')\n",
    "c.get_religion()"
   ]
  },
  {
   "cell_type": "code",
   "execution_count": null,
   "id": "8e287bd2-5832-45d2-bd90-5a86e95cabde",
   "metadata": {},
   "outputs": [],
   "source": []
  }
 ],
 "metadata": {
  "kernelspec": {
   "display_name": "Python 3 (ipykernel)",
   "language": "python",
   "name": "python3"
  },
  "language_info": {
   "codemirror_mode": {
    "name": "ipython",
    "version": 3
   },
   "file_extension": ".py",
   "mimetype": "text/x-python",
   "name": "python",
   "nbconvert_exporter": "python",
   "pygments_lexer": "ipython3",
   "version": "3.7.4"
  }
 },
 "nbformat": 4,
 "nbformat_minor": 5
}
