{
 "cells": [
  {
   "cell_type": "markdown",
   "id": "220c1401-714b-4da0-94d8-f437bdb7cd21",
   "metadata": {},
   "source": [
    "## Python Classes and Objects"
   ]
  },
  {
   "cell_type": "code",
   "execution_count": 1,
   "id": "611ffdb7-044e-4783-b199-8fdd7bfe403d",
   "metadata": {},
   "outputs": [],
   "source": [
    "# We create a class using class keyword\n",
    "\n",
    "class Name:\n",
    "    a ='My name is Dara'\n",
    "\n"
   ]
  },
  {
   "cell_type": "code",
   "execution_count": 2,
   "id": "40865529-5794-45c1-ad06-f94ab44e36df",
   "metadata": {},
   "outputs": [
    {
     "name": "stdout",
     "output_type": "stream",
     "text": [
      "My name is Dara\n"
     ]
    }
   ],
   "source": [
    "# To create an object\n",
    "j = Name()\n",
    "print(j.a)"
   ]
  },
  {
   "cell_type": "code",
   "execution_count": 3,
   "id": "a9c8068c-0849-42f5-9451-ccabee822896",
   "metadata": {},
   "outputs": [
    {
     "name": "stdout",
     "output_type": "stream",
     "text": [
      "Turkey\n",
      "Instabul\n"
     ]
    }
   ],
   "source": [
    "class Places:\n",
    "    def __init__(self,country,city):\n",
    "        self.country = country\n",
    "        self.city = city\n",
    "        \n",
    "insta =Places('Turkey','Instabul')\n",
    "print(insta.country)\n",
    "print(insta.city)"
   ]
  },
  {
   "cell_type": "code",
   "execution_count": 4,
   "id": "91cae438-3705-404f-9af2-eac0dfd204e3",
   "metadata": {},
   "outputs": [
    {
     "name": "stdout",
     "output_type": "stream",
     "text": [
      "Turkey\n",
      "Instabul\n",
      "Ankara\n"
     ]
    }
   ],
   "source": [
    "class Places:\n",
    "    def __init__(self,country,city):\n",
    "        self.country = country\n",
    "        self.city = city\n",
    "    \n",
    "    def welcome_msg(self):\n",
    "        print('Welcome to '+self.city+','+self.country )\n",
    "    def add_city(self,new_city):\n",
    "            self.new_city = new_city\n",
    "insta =Places('Turkey','Instabul')\n",
    "print(insta.country)\n",
    "print(insta.city)\n",
    "\n",
    "insta.add_city('Ankara')\n",
    "print(insta.new_city)"
   ]
  },
  {
   "cell_type": "code",
   "execution_count": 5,
   "id": "e60d83af-e3f6-48af-ab6f-180393b5de52",
   "metadata": {},
   "outputs": [
    {
     "data": {
      "text/plain": [
       "['rice', 'beans', 'stew', 'Dodo']"
      ]
     },
     "execution_count": 5,
     "metadata": {},
     "output_type": "execute_result"
    }
   ],
   "source": [
    "# We have a list\n",
    "food =['rice','beans','stew']\n",
    "food.append('Dodo')\n",
    "food"
   ]
  },
  {
   "cell_type": "code",
   "execution_count": null,
   "id": "a7298190-7da9-4450-b7c2-d5fbf3fba5c8",
   "metadata": {},
   "outputs": [],
   "source": [
    "food= list('rice','beans','stew')\n",
    "food.append('Dodo')\n",
    "food"
   ]
  },
  {
   "cell_type": "code",
   "execution_count": null,
   "id": "b406aae2-5102-4de3-81d2-68f7f4d9083e",
   "metadata": {},
   "outputs": [],
   "source": [
    "class List:\n",
    "    "
   ]
  },
  {
   "cell_type": "code",
   "execution_count": 13,
   "id": "ae3b27b2-3c59-4e74-9ad5-5640d64171aa",
   "metadata": {},
   "outputs": [
    {
     "name": "stdout",
     "output_type": "stream",
     "text": [
      "Turkey\n",
      "Instabul\n",
      "Welcome to Instabul,Turkey\n",
      "Ankara\n"
     ]
    }
   ],
   "source": [
    "class Places:\n",
    "    def __init__(self,country,city):\n",
    "        self.country = country\n",
    "        self.city = city\n",
    "    \n",
    "    def welcome_msg(self):\n",
    "        print('Welcome to '+self.city+','+self.country )\n",
    "    def add_city(self,new_city):\n",
    "            self.new_city = new_city\n",
    "insta =Places('Turkey','Instabul')\n",
    "print(insta.country)\n",
    "print(insta.city)\n",
    "insta.welcome_msg()\n",
    "insta.add_city('Ankara')\n",
    "print(insta.new_city)"
   ]
  },
  {
   "cell_type": "code",
   "execution_count": 14,
   "id": "ea902030-eff4-4536-b195-c09608b8dc0c",
   "metadata": {},
   "outputs": [
    {
     "name": "stdout",
     "output_type": "stream",
     "text": [
      "<__main__.Places object at 0x000002115C8B0488>\n"
     ]
    }
   ],
   "source": [
    "print(insta)"
   ]
  },
  {
   "cell_type": "code",
   "execution_count": 17,
   "id": "b266b9e2-6854-4cdd-a5ca-6814be69d6b0",
   "metadata": {},
   "outputs": [
    {
     "name": "stdout",
     "output_type": "stream",
     "text": [
      "<__main__.Places object at 0x000002115C8B0488>\n"
     ]
    }
   ],
   "source": [
    "print(insta.__str__())"
   ]
  },
  {
   "cell_type": "code",
   "execution_count": 19,
   "id": "0c966896-0145-402e-9fd3-3112d5909e37",
   "metadata": {},
   "outputs": [
    {
     "name": "stdout",
     "output_type": "stream",
     "text": [
      "<__main__.Places object at 0x000002115C8B0488>\n"
     ]
    }
   ],
   "source": [
    "print (Places.__str__(insta))"
   ]
  },
  {
   "cell_type": "markdown",
   "id": "07f28e92-4140-4b74-b8ce-7a1d24725fbe",
   "metadata": {},
   "source": [
    "### Self parameter"
   ]
  },
  {
   "cell_type": "code",
   "execution_count": 7,
   "id": "464d6a05-9618-4205-84b8-7642804d6d9c",
   "metadata": {
    "tags": []
   },
   "outputs": [
    {
     "name": "stdout",
     "output_type": "stream",
     "text": [
      "Italy\n",
      "Vienna\n"
     ]
    }
   ],
   "source": [
    "vien = Places('Italy' ,'Vienna')# the current instance here is whatever we put and define it as\n",
    "print(vien.country)\n",
    "print(vien.city)"
   ]
  },
  {
   "cell_type": "markdown",
   "id": "26aef998-8d72-4914-bb86-ab350728e986",
   "metadata": {},
   "source": [
    "## Modifying Object properites"
   ]
  },
  {
   "cell_type": "code",
   "execution_count": 8,
   "id": "57c15c9e-a455-406f-953e-5c4cd838604f",
   "metadata": {},
   "outputs": [
    {
     "name": "stdout",
     "output_type": "stream",
     "text": [
      "The updated country is Brazil\n"
     ]
    }
   ],
   "source": [
    "insta.country ='Brazil'\n",
    "print('The updated country is '+insta.country )"
   ]
  },
  {
   "cell_type": "markdown",
   "id": "f2e06672-c18a-4908-80fa-a43516f828e3",
   "metadata": {},
   "source": [
    "## Deleting Object properties"
   ]
  },
  {
   "cell_type": "code",
   "execution_count": 9,
   "id": "43a9e839-5f7f-4287-8ef1-c77d84e6b578",
   "metadata": {},
   "outputs": [
    {
     "ename": "AttributeError",
     "evalue": "'Places' object has no attribute 'country'",
     "output_type": "error",
     "traceback": [
      "\u001b[1;31m---------------------------------------------------------------------------\u001b[0m",
      "\u001b[1;31mAttributeError\u001b[0m                            Traceback (most recent call last)",
      "\u001b[1;32m~\\AppData\\Local\\Temp/ipykernel_1776/3593833730.py\u001b[0m in \u001b[0;36m<module>\u001b[1;34m\u001b[0m\n\u001b[0;32m      1\u001b[0m \u001b[1;32mdel\u001b[0m \u001b[0minsta\u001b[0m\u001b[1;33m.\u001b[0m\u001b[0mcountry\u001b[0m\u001b[1;33m\u001b[0m\u001b[1;33m\u001b[0m\u001b[0m\n\u001b[1;32m----> 2\u001b[1;33m \u001b[0mprint\u001b[0m\u001b[1;33m(\u001b[0m\u001b[0minsta\u001b[0m\u001b[1;33m.\u001b[0m\u001b[0mcountry\u001b[0m\u001b[1;33m)\u001b[0m\u001b[1;33m\u001b[0m\u001b[1;33m\u001b[0m\u001b[0m\n\u001b[0m",
      "\u001b[1;31mAttributeError\u001b[0m: 'Places' object has no attribute 'country'"
     ]
    }
   ],
   "source": [
    "del insta.country\n",
    "print(insta.country)"
   ]
  },
  {
   "cell_type": "code",
   "execution_count": 12,
   "id": "769b6787-521d-49e8-aff7-e43c1e081c09",
   "metadata": {},
   "outputs": [
    {
     "name": "stdout",
     "output_type": "stream",
     "text": [
      "<class 'function'> <class 'type'>\n"
     ]
    }
   ],
   "source": [
    "print(type(Places.add_city), type(Places))"
   ]
  },
  {
   "cell_type": "code",
   "execution_count": null,
   "id": "02225786-b6f6-45ce-82f1-f460e5c7b143",
   "metadata": {},
   "outputs": [],
   "source": [
    "insta.country ='Turkey'\n",
    "print(insta.country)"
   ]
  },
  {
   "cell_type": "markdown",
   "id": "0ad9dc4a-1249-407c-9654-edc5dc14038d",
   "metadata": {},
   "source": [
    "## Pass statement\n",
    "\n",
    "Pass statement can also be used when creating classes to avoid errors\n"
   ]
  },
  {
   "cell_type": "code",
   "execution_count": null,
   "id": "267035e8-f091-4594-97c9-5210725ad9c0",
   "metadata": {},
   "outputs": [],
   "source": [
    "class name:\n",
    "    pass"
   ]
  },
  {
   "cell_type": "markdown",
   "id": "d166d1c1-0c52-430c-b436-37dfc7802001",
   "metadata": {},
   "source": [
    "## Inheritance"
   ]
  },
  {
   "cell_type": "code",
   "execution_count": null,
   "id": "50d6a7c5-5f62-40f7-b44a-3c9f4c01ef59",
   "metadata": {},
   "outputs": [],
   "source": []
  }
 ],
 "metadata": {
  "kernelspec": {
   "display_name": "Python 3 (ipykernel)",
   "language": "python",
   "name": "python3"
  },
  "language_info": {
   "codemirror_mode": {
    "name": "ipython",
    "version": 3
   },
   "file_extension": ".py",
   "mimetype": "text/x-python",
   "name": "python",
   "nbconvert_exporter": "python",
   "pygments_lexer": "ipython3",
   "version": "3.7.4"
  }
 },
 "nbformat": 4,
 "nbformat_minor": 5
}
