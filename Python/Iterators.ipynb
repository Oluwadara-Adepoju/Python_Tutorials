{
 "cells": [
  {
   "cell_type": "markdown",
   "id": "c62bd3c5-982a-49b6-8d19-7c24a6c650da",
   "metadata": {},
   "source": [
    " ## Iterators"
   ]
  },
  {
   "cell_type": "code",
   "execution_count": 2,
   "id": "911aa047-7ad4-4c81-9dd1-4972ecd54a8e",
   "metadata": {},
   "outputs": [
    {
     "name": "stdout",
     "output_type": "stream",
     "text": [
      "jeans\n",
      "skirts\n",
      "crop top\n",
      "blouse\n",
      "gown\n"
     ]
    }
   ],
   "source": [
    "clothes = ['jeans','skirts','crop top','blouse','gown']\n",
    "cloth = iter(clothes)\n",
    "\n",
    "print(next(cloth))\n",
    "print(next(cloth))\n",
    "print(next(cloth))\n",
    "print(next(cloth))\n",
    "print(next(cloth))\n"
   ]
  },
  {
   "cell_type": "code",
   "execution_count": 4,
   "id": "567969e4-c976-4306-93d3-03f715260cc4",
   "metadata": {},
   "outputs": [
    {
     "name": "stdout",
     "output_type": "stream",
     "text": [
      "s\n",
      "a\n",
      "t\n",
      "u\n",
      "r\n",
      "d\n",
      "a\n",
      "y\n"
     ]
    }
   ],
   "source": [
    "sat='saturday'\n",
    "day=iter(sat)\n",
    "print(next(day))\n",
    "print(next(day))\n",
    "print(next(day))\n",
    "print(next(day))\n",
    "print(next(day))\n",
    "print(next(day))\n",
    "print(next(day))\n",
    "print(next(day))\n"
   ]
  },
  {
   "cell_type": "code",
   "execution_count": 5,
   "id": "63629460-1910-4800-871b-e9513c98884b",
   "metadata": {},
   "outputs": [
    {
     "name": "stdout",
     "output_type": "stream",
     "text": [
      "jeans\n",
      "skirts\n",
      "crop top\n",
      "blouse\n",
      "gown\n"
     ]
    }
   ],
   "source": [
    "for x in clothes:\n",
    "    print(x)"
   ]
  },
  {
   "cell_type": "code",
   "execution_count": 6,
   "id": "b6f0f80f-54e7-44fd-ab3c-7e682d7faddd",
   "metadata": {},
   "outputs": [
    {
     "name": "stdout",
     "output_type": "stream",
     "text": [
      "s\n",
      "a\n",
      "t\n",
      "u\n",
      "r\n",
      "d\n",
      "a\n",
      "y\n"
     ]
    }
   ],
   "source": [
    "for x in sat:\n",
    "    print(x)"
   ]
  },
  {
   "cell_type": "markdown",
   "id": "7b4c6c05-96db-4fd7-a958-cea07b38626d",
   "metadata": {},
   "source": [
    "## Creating an iterator"
   ]
  },
  {
   "cell_type": "code",
   "execution_count": 7,
   "id": "fd73c1ca-7fa7-4574-a115-e58999044ec0",
   "metadata": {},
   "outputs": [
    {
     "name": "stdout",
     "output_type": "stream",
     "text": [
      "1\n",
      "2\n",
      "3\n",
      "4\n",
      "5\n",
      "6\n",
      "7\n",
      "8\n",
      "9\n",
      "10\n",
      "11\n",
      "12\n",
      "13\n",
      "14\n",
      "15\n",
      "16\n",
      "17\n",
      "18\n",
      "19\n",
      "20\n"
     ]
    }
   ],
   "source": [
    "class MyNumbers:\n",
    "  def __iter__(self):\n",
    "    self.a = 1\n",
    "    return self\n",
    "\n",
    "  def __next__(self):\n",
    "    if self.a <= 20:\n",
    "      x = self.a\n",
    "      self.a += 1\n",
    "      return x\n",
    "    else:\n",
    "      raise StopIteration\n",
    "\n",
    "myclass = MyNumbers()\n",
    "myiter = iter(myclass)\n",
    "\n",
    "for x in myiter:\n",
    "  print(x)"
   ]
  },
  {
   "cell_type": "code",
   "execution_count": null,
   "id": "cb9a1361-81be-4ef0-b560-b7f213807c12",
   "metadata": {},
   "outputs": [],
   "source": []
  }
 ],
 "metadata": {
  "kernelspec": {
   "display_name": "Python 3 (ipykernel)",
   "language": "python",
   "name": "python3"
  },
  "language_info": {
   "codemirror_mode": {
    "name": "ipython",
    "version": 3
   },
   "file_extension": ".py",
   "mimetype": "text/x-python",
   "name": "python",
   "nbconvert_exporter": "python",
   "pygments_lexer": "ipython3",
   "version": "3.7.4"
  }
 },
 "nbformat": 4,
 "nbformat_minor": 5
}
