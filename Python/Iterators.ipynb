{
 "cells": [
  {
   "cell_type": "markdown",
   "id": "c62bd3c5-982a-49b6-8d19-7c24a6c650da",
   "metadata": {},
   "source": [
    " ## Iterators"
   ]
  },
  {
   "cell_type": "code",
   "execution_count": 2,
   "id": "911aa047-7ad4-4c81-9dd1-4972ecd54a8e",
   "metadata": {},
   "outputs": [
    {
     "name": "stdout",
     "output_type": "stream",
     "text": [
      "jeans\n",
      "skirts\n",
      "crop top\n",
      "blouse\n",
      "gown\n"
     ]
    }
   ],
   "source": [
    "clothes = ['jeans','skirts','crop top','blouse','gown']\n",
    "cloth = iter(clothes)\n",
    "\n",
    "print(next(cloth))\n",
    "print(next(cloth))\n",
    "print(next(cloth))\n",
    "print(next(cloth))\n",
    "print(next(cloth))\n"
   ]
  },
  {
   "cell_type": "code",
   "execution_count": 4,
   "id": "567969e4-c976-4306-93d3-03f715260cc4",
   "metadata": {},
   "outputs": [
    {
     "name": "stdout",
     "output_type": "stream",
     "text": [
      "s\n",
      "a\n",
      "t\n",
      "u\n",
      "r\n",
      "d\n",
      "a\n",
      "y\n"
     ]
    }
   ],
   "source": [
    "sat='saturday'\n",
    "day=iter(sat)\n",
    "print(next(day))\n",
    "print(next(day))\n",
    "print(next(day))\n",
    "print(next(day))\n",
    "print(next(day))\n",
    "print(next(day))\n",
    "print(next(day))\n",
    "print(next(day))\n"
   ]
  },
  {
   "cell_type": "code",
   "execution_count": 5,
   "id": "63629460-1910-4800-871b-e9513c98884b",
   "metadata": {},
   "outputs": [
    {
     "name": "stdout",
     "output_type": "stream",
     "text": [
      "jeans\n",
      "skirts\n",
      "crop top\n",
      "blouse\n",
      "gown\n"
     ]
    }
   ],
   "source": [
    "for x in clothes:\n",
    "    print(x)"
   ]
  },
  {
   "cell_type": "code",
   "execution_count": 6,
   "id": "b6f0f80f-54e7-44fd-ab3c-7e682d7faddd",
   "metadata": {},
   "outputs": [
    {
     "name": "stdout",
     "output_type": "stream",
     "text": [
      "s\n",
      "a\n",
      "t\n",
      "u\n",
      "r\n",
      "d\n",
      "a\n",
      "y\n"
     ]
    }
   ],
   "source": [
    "for x in sat:\n",
    "    print(x)"
   ]
  },
  {
   "cell_type": "markdown",
   "id": "7b4c6c05-96db-4fd7-a958-cea07b38626d",
   "metadata": {},
   "source": [
    "## Creating an iterator"
   ]
  },
  {
   "cell_type": "code",
   "execution_count": null,
   "id": "fd73c1ca-7fa7-4574-a115-e58999044ec0",
   "metadata": {},
   "outputs": [
    {
     "name": "stdout",
     "output_type": "stream",
     "text": [
      "1\n",
      "2\n",
      "3\n",
      "4\n",
      "5\n",
      "6\n",
      "7\n",
      "8\n",
      "9\n",
      "10\n",
      "11\n",
      "12\n",
      "13\n",
      "14\n",
      "15\n",
      "16\n",
      "17\n",
      "18\n",
      "19\n",
      "20\n"
     ]
    }
   ],
   "source": [
    "class MyNumbers:\n",
    "  def __iter__(self):\n",
    "    self.a = 1\n",
    "    return self\n",
    "\n",
    "  def __next__(self):\n",
    "    if self.a <= 20:\n",
    "      x = self.a\n",
    "      self.a += 1\n",
    "      return x\n",
    "    else:\n",
    "      raise StopIteration\n",
    "\n",
    "myclass = MyNumbers()\n",
    "myiter = iter(myclass)\n",
    "\n",
    "for x in myiter:\n",
    "  print(x)"
   ]
  },
  {
   "cell_type": "markdown",
   "id": "c952913f-85a2-4ab6-beee-0cc671f4ce1a",
   "metadata": {},
   "source": [
    "## Scope"
   ]
  },
  {
   "cell_type": "code",
   "execution_count": 1,
   "id": "44225725-e7cf-4079-ab21-0ab3e3299af6",
   "metadata": {},
   "outputs": [
    {
     "name": "stdout",
     "output_type": "stream",
     "text": [
      "Oluwadara\n"
     ]
    }
   ],
   "source": [
    "#scope can be defined insde a function\n",
    "def name():\n",
    "    a = 'Oluwadara'\n",
    "    print(a)\n",
    "    \n",
    "name()\n",
    "    "
   ]
  },
  {
   "cell_type": "markdown",
   "id": "3b2f642c-dda8-4cc7-8f3c-2003cf21d742",
   "metadata": {},
   "source": [
    "### Function within a function\n"
   ]
  },
  {
   "cell_type": "code",
   "execution_count": 2,
   "id": "36cbdb00-04ca-4432-9c20-a8d01791c91d",
   "metadata": {},
   "outputs": [
    {
     "name": "stdout",
     "output_type": "stream",
     "text": [
      "Oluwadara\n"
     ]
    }
   ],
   "source": [
    "\n",
    "def name():\n",
    "    a = 'Oluwadara'\n",
    "    def print_name():\n",
    "        print(a)\n",
    "    print_name()\n",
    "name()\n",
    "    "
   ]
  },
  {
   "cell_type": "markdown",
   "id": "ca09290e-3939-49e4-9445-28c8d4f63c0c",
   "metadata": {},
   "source": [
    "## Global Scope"
   ]
  },
  {
   "cell_type": "code",
   "execution_count": 5,
   "id": "3b848d12-e702-41c8-b6ea-4b6576eddfa7",
   "metadata": {},
   "outputs": [
    {
     "name": "stdout",
     "output_type": "stream",
     "text": [
      "Oluwadara\n"
     ]
    }
   ],
   "source": [
    "#scope can be defined insde a function\n",
    "a = 'Oluwadara'\n",
    "def name():\n",
    "   \n",
    "    print(a)\n",
    "    \n",
    "name()\n",
    "    "
   ]
  },
  {
   "cell_type": "code",
   "execution_count": 6,
   "id": "da82f287-a113-4112-84f7-93b98695ddec",
   "metadata": {},
   "outputs": [
    {
     "name": "stdout",
     "output_type": "stream",
     "text": [
      "Adedayo\n",
      "Oluwadara\n"
     ]
    }
   ],
   "source": [
    "a = 'Oluwadara'\n",
    "def name():\n",
    "    a= 'Adedayo'\n",
    "    print(a)\n",
    "    \n",
    "name()\n",
    "print(a)"
   ]
  },
  {
   "cell_type": "markdown",
   "id": "a98ce4d4-740e-4f1f-a6b7-ee3682171877",
   "metadata": {},
   "source": [
    "#### Global Keyword"
   ]
  },
  {
   "cell_type": "code",
   "execution_count": 11,
   "id": "6367f214-e704-4cd0-93ba-3f4a6ba4704f",
   "metadata": {},
   "outputs": [
    {
     "name": "stdout",
     "output_type": "stream",
     "text": [
      "Adedayo\n"
     ]
    }
   ],
   "source": [
    "def name():\n",
    "    global a\n",
    "    a= 'Adedayo'\n",
    "    \n",
    "name()\n",
    "\n",
    "print(a)"
   ]
  },
  {
   "cell_type": "code",
   "execution_count": null,
   "id": "87aad088-204d-4869-a6f0-6bd4f74b4889",
   "metadata": {},
   "outputs": [],
   "source": []
  }
 ],
 "metadata": {
  "kernelspec": {
   "display_name": "Python 3 (ipykernel)",
   "language": "python",
   "name": "python3"
  },
  "language_info": {
   "codemirror_mode": {
    "name": "ipython",
    "version": 3
   },
   "file_extension": ".py",
   "mimetype": "text/x-python",
   "name": "python",
   "nbconvert_exporter": "python",
   "pygments_lexer": "ipython3",
   "version": "3.7.4"
  }
 },
 "nbformat": 4,
 "nbformat_minor": 5
}
