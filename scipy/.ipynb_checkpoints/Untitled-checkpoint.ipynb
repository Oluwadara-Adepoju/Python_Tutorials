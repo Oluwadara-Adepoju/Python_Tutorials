{
 "cells": [
  {
   "cell_type": "markdown",
   "id": "91b447e9",
   "metadata": {},
   "source": [
    "## Optimizing functions"
   ]
  },
  {
   "cell_type": "code",
   "execution_count": 8,
   "id": "9acbc4ec",
   "metadata": {},
   "outputs": [
    {
     "name": "stdout",
     "output_type": "stream",
     "text": [
      "[0.]\n"
     ]
    }
   ],
   "source": [
    "\n",
    "from scipy.optimize import root\n",
    "\n",
    "from math import cos,sin,tan\n",
    "\n",
    "def equ(x):\n",
    "    return x + tan(x)\n",
    "\n",
    "myroot = root(equ, 1)\n",
    "\n",
    "print(myroot.x)"
   ]
  },
  {
   "cell_type": "code",
   "execution_count": 9,
   "id": "b37ee119",
   "metadata": {},
   "outputs": [
    {
     "name": "stdout",
     "output_type": "stream",
     "text": [
      "    fjac: array([[-1.]])\n",
      "     fun: array([0.])\n",
      " message: 'The solution converged.'\n",
      "    nfev: 9\n",
      "     qtf: array([-3.00372545e-21])\n",
      "       r: array([-2.])\n",
      "  status: 1\n",
      " success: True\n",
      "       x: array([0.])\n"
     ]
    }
   ],
   "source": [
    "print(myroot)"
   ]
  },
  {
   "cell_type": "markdown",
   "id": "64059295",
   "metadata": {},
   "source": [
    "### Global and local Minima and Maxima"
   ]
  },
  {
   "cell_type": "code",
   "execution_count": 11,
   "id": "63fe1fb5",
   "metadata": {},
   "outputs": [
    {
     "name": "stdout",
     "output_type": "stream",
     "text": [
      "      fun: 3.75\n",
      " hess_inv: array([[0.50000001]])\n",
      "      jac: array([0.])\n",
      "  message: 'Optimization terminated successfully.'\n",
      "     nfev: 8\n",
      "      nit: 2\n",
      "     njev: 4\n",
      "   status: 0\n",
      "  success: True\n",
      "        x: array([-0.50000001])\n"
     ]
    }
   ],
   "source": [
    "from scipy.optimize import minimize\n",
    "\n",
    "def eqn(x):\n",
    "    return 2+x**2 + x + 2\n",
    "\n",
    "mymin = minimize(eqn, 0, method='BFGS')\n",
    "\n",
    "print(mymin)"
   ]
  },
  {
   "cell_type": "markdown",
   "id": "c173bb4f",
   "metadata": {},
   "source": [
    "### Scipy Sparse Data"
   ]
  },
  {
   "cell_type": "code",
   "execution_count": 14,
   "id": "dd11d92f",
   "metadata": {},
   "outputs": [
    {
     "name": "stdout",
     "output_type": "stream",
     "text": [
      "  (0, 2)\t1\n",
      "  (0, 6)\t1\n",
      "  (0, 8)\t2\n",
      "  (0, 10)\t6\n"
     ]
    }
   ],
   "source": [
    "#CSR \n",
    "import numpy as np\n",
    "from scipy.sparse import csr_matrix\n",
    "\n",
    "arr = np.array([0, 0, 1, 0, 0, 0, 1, 0, 2,0,6])\n",
    "\n",
    "print(csr_matrix(arr))"
   ]
  },
  {
   "cell_type": "code",
   "execution_count": 15,
   "id": "6c5e4cf2",
   "metadata": {},
   "outputs": [
    {
     "name": "stdout",
     "output_type": "stream",
     "text": [
      "[1 1 2]\n"
     ]
    }
   ],
   "source": [
    "from scipy.sparse import csr_matrix\n",
    "\n",
    "arr_a = np.array([[0, 0, 0], \n",
    "                [0, 0, 1], \n",
    "                [1, 0, 2]])\n",
    "\n",
    "print(csr_matrix(arr_a).data)"
   ]
  },
  {
   "cell_type": "code",
   "execution_count": 18,
   "id": "6806da6e",
   "metadata": {},
   "outputs": [
    {
     "name": "stdout",
     "output_type": "stream",
     "text": [
      "[1 4 2]\n"
     ]
    }
   ],
   "source": [
    "from scipy.sparse import csc_matrix\n",
    "\n",
    "arr = np.array([[0, 0, 0], \n",
    "                [0, 4, 0], \n",
    "                [1, 0, 2]])\n",
    "\n",
    "print(csc_matrix(arr).data)"
   ]
  },
  {
   "cell_type": "code",
   "execution_count": 20,
   "id": "cc893e68",
   "metadata": {},
   "outputs": [
    {
     "name": "stdout",
     "output_type": "stream",
     "text": [
      "3\n"
     ]
    }
   ],
   "source": [
    "## counting the non zero functions\n",
    "arr_b = np.array([[0, 0, 0], \n",
    "                  [0, 0, 1], \n",
    "                  [1, 0, 2]])\n",
    "\n",
    "print(csr_matrix(arr_b).count_nonzero())"
   ]
  },
  {
   "cell_type": "code",
   "execution_count": 21,
   "id": "1704d3de",
   "metadata": {},
   "outputs": [
    {
     "name": "stdout",
     "output_type": "stream",
     "text": [
      "  (1, 2)\t1\n",
      "  (2, 0)\t1\n",
      "  (2, 2)\t2\n"
     ]
    }
   ],
   "source": [
    "#Eliminating zerors in the array using scpy's eliminate_zeros\n",
    "elm=csr_matrix(arr_b)\n",
    "elm.eliminate_zeros()\n",
    "\n",
    "print(elm)"
   ]
  },
  {
   "cell_type": "code",
   "execution_count": null,
   "id": "d35cd316",
   "metadata": {},
   "outputs": [],
   "source": []
  },
  {
   "cell_type": "code",
   "execution_count": null,
   "id": "2fb75d7f",
   "metadata": {},
   "outputs": [],
   "source": []
  }
 ],
 "metadata": {
  "kernelspec": {
   "display_name": "Python 3 (ipykernel)",
   "language": "python",
   "name": "python3"
  },
  "language_info": {
   "codemirror_mode": {
    "name": "ipython",
    "version": 3
   },
   "file_extension": ".py",
   "mimetype": "text/x-python",
   "name": "python",
   "nbconvert_exporter": "python",
   "pygments_lexer": "ipython3",
   "version": "3.7.4"
  }
 },
 "nbformat": 4,
 "nbformat_minor": 5
}
