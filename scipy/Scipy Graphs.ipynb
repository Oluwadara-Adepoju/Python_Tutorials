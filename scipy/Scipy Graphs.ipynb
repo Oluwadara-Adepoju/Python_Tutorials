{
 "cells": [
  {
   "cell_type": "markdown",
   "id": "489d666b",
   "metadata": {},
   "source": [
    "## Working with Graphs\n",
    "Today, we are going to be workng on graphs using scipy.sparse.csgraph for working with Data structures\n"
   ]
  },
  {
   "cell_type": "markdown",
   "id": "98c39f1a",
   "metadata": {},
   "source": [
    "### Connected components\n",
    "Different methods are used when working with  adjcent matrices\n",
    "\n",
    "using connected_components()"
   ]
  },
  {
   "cell_type": "code",
   "execution_count": 1,
   "id": "641ea351",
   "metadata": {},
   "outputs": [
    {
     "name": "stdout",
     "output_type": "stream",
     "text": [
      "(1, array([0, 0, 0]))\n"
     ]
    }
   ],
   "source": [
    "import numpy as np\n",
    "from scipy.sparse.csgraph import connected_components\n",
    "from scipy.sparse import csr_matrix\n",
    "\n",
    "arr = np.array([\n",
    "  [0, 1, 2],\n",
    "  [1, 0, 0],\n",
    "  [2, 0, 0]\n",
    "])\n",
    "\n",
    "newarr = csr_matrix(arr)\n",
    "\n",
    "print(connected_components(newarr))"
   ]
  },
  {
   "cell_type": "code",
   "execution_count": null,
   "id": "11b680dd",
   "metadata": {},
   "outputs": [],
   "source": []
  }
 ],
 "metadata": {
  "kernelspec": {
   "display_name": "Python 3 (ipykernel)",
   "language": "python",
   "name": "python3"
  },
  "language_info": {
   "codemirror_mode": {
    "name": "ipython",
    "version": 3
   },
   "file_extension": ".py",
   "mimetype": "text/x-python",
   "name": "python",
   "nbconvert_exporter": "python",
   "pygments_lexer": "ipython3",
   "version": "3.7.4"
  }
 },
 "nbformat": 4,
 "nbformat_minor": 5
}
