{
 "cells": [
  {
   "cell_type": "markdown",
   "id": "4ac12a8d",
   "metadata": {},
   "source": [
    "## Optimizing functions"
   ]
  },
  {
   "cell_type": "code",
   "execution_count": 8,
   "id": "9b37a86b",
   "metadata": {},
   "outputs": [
    {
     "name": "stdout",
     "output_type": "stream",
     "text": [
      "[0.]\n"
     ]
    }
   ],
   "source": [
    "\n",
    "from scipy.optimize import root\n",
    "\n",
    "from math import cos,sin,tan\n",
    "\n",
    "def equ(x):\n",
    "    return x + tan(x)\n",
    "\n",
    "myroot = root(equ, 1)\n",
    "\n",
    "print(myroot.x)"
   ]
  },
  {
   "cell_type": "code",
   "execution_count": 9,
   "id": "f90b3603",
   "metadata": {},
   "outputs": [
    {
     "name": "stdout",
     "output_type": "stream",
     "text": [
      "    fjac: array([[-1.]])\n",
      "     fun: array([0.])\n",
      " message: 'The solution converged.'\n",
      "    nfev: 9\n",
      "     qtf: array([-3.00372545e-21])\n",
      "       r: array([-2.])\n",
      "  status: 1\n",
      " success: True\n",
      "       x: array([0.])\n"
     ]
    }
   ],
   "source": [
    "print(myroot)"
   ]
  },
  {
   "cell_type": "markdown",
   "id": "883aa55c",
   "metadata": {},
   "source": [
    "### Global and local Minima and Maxima"
   ]
  },
  {
   "cell_type": "code",
   "execution_count": 11,
   "id": "01989752",
   "metadata": {},
   "outputs": [
    {
     "name": "stdout",
     "output_type": "stream",
     "text": [
      "      fun: 3.75\n",
      " hess_inv: array([[0.50000001]])\n",
      "      jac: array([0.])\n",
      "  message: 'Optimization terminated successfully.'\n",
      "     nfev: 8\n",
      "      nit: 2\n",
      "     njev: 4\n",
      "   status: 0\n",
      "  success: True\n",
      "        x: array([-0.50000001])\n"
     ]
    }
   ],
   "source": [
    "from scipy.optimize import minimize\n",
    "\n",
    "def eqn(x):\n",
    "    return 2+x**2 + x + 2\n",
    "\n",
    "mymin = minimize(eqn, 0, method='BFGS')\n",
    "\n",
    "print(mymin)"
   ]
  },
  {
   "cell_type": "markdown",
   "id": "c7fa5a04",
   "metadata": {},
   "source": [
    "### Scipy Sparse Data"
   ]
  },
  {
   "cell_type": "code",
   "execution_count": 14,
   "id": "02f7b54e",
   "metadata": {},
   "outputs": [
    {
     "name": "stdout",
     "output_type": "stream",
     "text": [
      "  (0, 2)\t1\n",
      "  (0, 6)\t1\n",
      "  (0, 8)\t2\n",
      "  (0, 10)\t6\n"
     ]
    }
   ],
   "source": [
    "#CSR \n",
    "import numpy as np\n",
    "from scipy.sparse import csr_matrix\n",
    "\n",
    "arr = np.array([0, 0, 1, 0, 0, 0, 1, 0, 2,0,6])\n",
    "\n",
    "print(csr_matrix(arr))"
   ]
  },
  {
   "cell_type": "code",
   "execution_count": 15,
   "id": "e302a197",
   "metadata": {},
   "outputs": [
    {
     "name": "stdout",
     "output_type": "stream",
     "text": [
      "[1 1 2]\n"
     ]
    }
   ],
   "source": [
    "from scipy.sparse import csr_matrix\n",
    "\n",
    "arr_a = np.array([[0, 0, 0], \n",
    "                [0, 0, 1], \n",
    "                [1, 0, 2]])\n",
    "\n",
    "print(csr_matrix(arr_a).data)"
   ]
  },
  {
   "cell_type": "code",
   "execution_count": 18,
   "id": "3d04be3a",
   "metadata": {},
   "outputs": [
    {
     "name": "stdout",
     "output_type": "stream",
     "text": [
      "[1 4 2]\n"
     ]
    }
   ],
   "source": [
    "from scipy.sparse import csc_matrix\n",
    "\n",
    "arr = np.array([[0, 0, 0], \n",
    "                [0, 4, 0], \n",
    "                [1, 0, 2]])\n",
    "\n",
    "print(csc_matrix(arr).data)"
   ]
  },
  {
   "cell_type": "code",
   "execution_count": 20,
   "id": "79d3c3f2",
   "metadata": {},
   "outputs": [
    {
     "name": "stdout",
     "output_type": "stream",
     "text": [
      "3\n"
     ]
    }
   ],
   "source": [
    "## counting the non zero functions\n",
    "arr_b = np.array([[0, 0, 0], \n",
    "                  [0, 0, 1], \n",
    "                  [1, 0, 2]])\n",
    "\n",
    "print(csr_matrix(arr_b).count_nonzero())"
   ]
  },
  {
   "cell_type": "code",
   "execution_count": 21,
   "id": "7565559f",
   "metadata": {},
   "outputs": [
    {
     "name": "stdout",
     "output_type": "stream",
     "text": [
      "  (1, 2)\t1\n",
      "  (2, 0)\t1\n",
      "  (2, 2)\t2\n"
     ]
    }
   ],
   "source": [
    "#Eliminating zerors in the array using scpy's eliminate_zeros\n",
    "elm=csr_matrix(arr_b)\n",
    "elm.eliminate_zeros()\n",
    "\n",
    "print(elm)"
   ]
  },
  {
   "cell_type": "code",
   "execution_count": 22,
   "id": "d1629382",
   "metadata": {},
   "outputs": [
    {
     "data": {
      "text/plain": [
       "<3x3 sparse matrix of type '<class 'numpy.intc'>'\n",
       "\twith 3 stored elements in Compressed Sparse Row format>"
      ]
     },
     "execution_count": 22,
     "metadata": {},
     "output_type": "execute_result"
    }
   ],
   "source": [
    "elm"
   ]
  },
  {
   "cell_type": "code",
   "execution_count": 23,
   "id": "18051b74",
   "metadata": {},
   "outputs": [
    {
     "name": "stdout",
     "output_type": "stream",
     "text": [
      "  (1, 2)\t1\n",
      "  (2, 0)\t1\n",
      "  (2, 2)\t2\n"
     ]
    }
   ],
   "source": [
    "#eliminating te duplicate\n",
    "dup = csr_matrix(arr_b)\n",
    "dup.sum_duplicates()\n",
    "\n",
    "print(dup)"
   ]
  },
  {
   "cell_type": "code",
   "execution_count": 25,
   "id": "64f46f6b",
   "metadata": {},
   "outputs": [
    {
     "name": "stdout",
     "output_type": "stream",
     "text": [
      "  (2, 0)\t1\n",
      "  (1, 2)\t1\n",
      "  (2, 2)\t2\n"
     ]
    }
   ],
   "source": [
    "#Converting compressed sparse rows to compressed sparse columns\n",
    "\n",
    "newarr = csr_matrix(arr_b).tocsc()\n",
    "\n",
    "print(newarr)"
   ]
  },
  {
   "cell_type": "code",
   "execution_count": null,
   "id": "6349d8ae",
   "metadata": {},
   "outputs": [],
   "source": []
  }
 ],
 "metadata": {
  "kernelspec": {
   "display_name": "Python 3 (ipykernel)",
   "language": "python",
   "name": "python3"
  },
  "language_info": {
   "codemirror_mode": {
    "name": "ipython",
    "version": 3
   },
   "file_extension": ".py",
   "mimetype": "text/x-python",
   "name": "python",
   "nbconvert_exporter": "python",
   "pygments_lexer": "ipython3",
   "version": "3.7.4"
  }
 },
 "nbformat": 4,
 "nbformat_minor": 5
}
