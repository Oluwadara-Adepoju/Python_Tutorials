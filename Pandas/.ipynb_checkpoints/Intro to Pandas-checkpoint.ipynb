{
 "cells": [
  {
   "cell_type": "markdown",
   "id": "fdb6c478-5458-42b6-98e2-d5ce6acdf694",
   "metadata": {},
   "source": [
    "### Introduction to Pandas\n"
   ]
  },
  {
   "cell_type": "code",
   "execution_count": 1,
   "id": "e110f636-4ae2-4939-805c-1e8775cb8206",
   "metadata": {},
   "outputs": [],
   "source": [
    "##Import the package\n",
    "import pandas "
   ]
  },
  {
   "cell_type": "code",
   "execution_count": 2,
   "id": "d9188dc3-d52b-4084-bb0c-252ae2d2e22c",
   "metadata": {},
   "outputs": [
    {
     "name": "stdout",
     "output_type": "stream",
     "text": [
      "    Phones  Ranking\n",
      "0  Samsumg        1\n",
      "1   iphone        2\n",
      "2    Tecno        4\n",
      "3   Gionee        5\n",
      "4  Infinix        3\n"
     ]
    }
   ],
   "source": [
    "#Creating a dataset from a dictionary\n",
    "temp_data ={'Phones' : ['Samsumg', 'iphone','Tecno', 'Gionee','Infinix'],\n",
    "             'Ranking' : [1 ,2,4,5,3]}\n",
    "data = pandas.DataFrame(temp_data)\n",
    "print(data)"
   ]
  },
  {
   "cell_type": "code",
   "execution_count": 3,
   "id": "43dc5ced-5125-433d-a98e-83207ff553a0",
   "metadata": {},
   "outputs": [],
   "source": [
    "# Using the alias name pd\n",
    "import pandas as pd"
   ]
  },
  {
   "cell_type": "code",
   "execution_count": 4,
   "id": "e683a6f8-f088-45f4-8a27-1a3a684ddc8b",
   "metadata": {},
   "outputs": [
    {
     "name": "stdout",
     "output_type": "stream",
     "text": [
      "1.3.4\n"
     ]
    }
   ],
   "source": [
    "# checking the version\n",
    "\n",
    "print(pd.__version__)"
   ]
  },
  {
   "cell_type": "markdown",
   "id": "1c6a2ece-2e60-4e06-8008-0008d01e8092",
   "metadata": {},
   "source": [
    "### Pandas Series\n",
    "A pandas series is like a colunm in a table"
   ]
  },
  {
   "cell_type": "code",
   "execution_count": 5,
   "id": "9a5b50cc-ecf3-483d-8a64-4d532ef811cc",
   "metadata": {},
   "outputs": [
    {
     "name": "stdout",
     "output_type": "stream",
     "text": [
      "0    2\n",
      "1    4\n",
      "2    6\n",
      "3    8\n",
      "dtype: int64\n"
     ]
    }
   ],
   "source": [
    "m = [2,4,6,8,]# a python list \n",
    "var= pd.Series(m)#Note the first S in series must be in capital letter\n",
    "print(var)"
   ]
  },
  {
   "cell_type": "code",
   "execution_count": 6,
   "id": "13d70f3b-b8c6-4686-84c1-47bd44802878",
   "metadata": {},
   "outputs": [
    {
     "name": "stdout",
     "output_type": "stream",
     "text": [
      "4\n"
     ]
    }
   ],
   "source": [
    "#### Labels\n",
    "print(var[1])"
   ]
  },
  {
   "cell_type": "code",
   "execution_count": 7,
   "id": "53386c9f-1d14-46f7-8be6-a729a6529aeb",
   "metadata": {},
   "outputs": [
    {
     "name": "stdout",
     "output_type": "stream",
     "text": [
      "a    2\n",
      "b    4\n",
      "c    6\n",
      "d    8\n",
      "dtype: int64\n"
     ]
    }
   ],
   "source": [
    "### Create labels\n",
    "var= pd.Series(m, index=['a','b','c','d'])#Note the first S in series must be in capital letter\n",
    "print(var)"
   ]
  },
  {
   "cell_type": "code",
   "execution_count": 8,
   "id": "7be714d7-f018-4c01-8dc1-f35aed6532e6",
   "metadata": {},
   "outputs": [
    {
     "name": "stdout",
     "output_type": "stream",
     "text": [
      "      Phones  Ranking\n",
      "i    Samsumg        1\n",
      "ii    iphone        2\n",
      "iii    Tecno        4\n",
      "iv    Gionee        5\n",
      "v    Infinix        3\n"
     ]
    }
   ],
   "source": [
    "##Creating an index for the dataframe\n",
    "temp_data ={'Phones' : ['Samsumg', 'iphone','Tecno', 'Gionee','Infinix'],\n",
    "             'Ranking' : [1 ,2,4,5,3]}\n",
    "data = pandas.DataFrame(temp_data, index=['i','ii','iii','iv','v'])\n",
    "print(data)"
   ]
  },
  {
   "cell_type": "code",
   "execution_count": 10,
   "id": "98dd1557-93b3-4d8e-9073-dfbbd2db48eb",
   "metadata": {},
   "outputs": [
    {
     "name": "stdout",
     "output_type": "stream",
     "text": [
      "4\n"
     ]
    }
   ],
   "source": [
    "# Accessing the items via Labels\n",
    "print(var['b'])"
   ]
  },
  {
   "cell_type": "markdown",
   "id": "a5441622-48c6-469d-9236-aa34f383103e",
   "metadata": {},
   "source": [
    "#### Key / Values Objects as a series"
   ]
  },
  {
   "cell_type": "code",
   "execution_count": 11,
   "id": "924025fd-eae8-421b-8e72-a8720dfdd984",
   "metadata": {},
   "outputs": [
    {
     "name": "stdout",
     "output_type": "stream",
     "text": [
      "day1    420\n",
      "day2    380\n",
      "day3    390\n",
      "dtype: int64\n"
     ]
    }
   ],
   "source": [
    "# Creating a Pandas Series with a dictionary\n",
    "weight_loss_diet = {\"day1\": 420, \"day2\": 380, \"day3\": 390}\n",
    "\n",
    "myvar = pd.Series(weight_loss_diet)\n",
    "\n",
    "print(myvar)\n"
   ]
  },
  {
   "cell_type": "code",
   "execution_count": 12,
   "id": "85a95bed-910a-4bef-bf0d-e89e83fc3e36",
   "metadata": {},
   "outputs": [
    {
     "name": "stdout",
     "output_type": "stream",
     "text": [
      "day1    420\n",
      "day2    380\n",
      "dtype: int64\n"
     ]
    }
   ],
   "source": [
    "## \n",
    "weight_loss_diet = {\"day1\": 420, \"day2\": 380, \"day3\": 390}\n",
    "\n",
    "var = pd.Series(weight_loss_diet,index = [\"day1\", \"day2\"])\n",
    "\n",
    "print(var)"
   ]
  },
  {
   "cell_type": "markdown",
   "id": "479c3d48-3418-48b8-9f41-f490195ef7f0",
   "metadata": {},
   "source": [
    "### DataFrames"
   ]
  },
  {
   "cell_type": "code",
   "execution_count": 13,
   "id": "0e118076-2a2d-413a-b0fb-8f7604aa75a7",
   "metadata": {},
   "outputs": [
    {
     "name": "stdout",
     "output_type": "stream",
     "text": [
      "   calories  duration\n",
      "0       420        50\n",
      "1       380        40\n",
      "2       390        45\n"
     ]
    }
   ],
   "source": [
    "# DataFrames can also be created from two pandasseries\n",
    "import pandas as pd\n",
    "\n",
    "data = {\n",
    "  \"calories\": [420, 380, 390],\n",
    "  \"duration\": [50, 40, 45]\n",
    "}\n",
    "\n",
    "myvar = pd.DataFrame(data)\n",
    "\n",
    "print(myvar)"
   ]
  },
  {
   "cell_type": "code",
   "execution_count": null,
   "id": "eee0be82-11f5-4fed-a5a5-64f869d56b05",
   "metadata": {},
   "outputs": [],
   "source": []
  }
 ],
 "metadata": {
  "kernelspec": {
   "display_name": "Python 3 (ipykernel)",
   "language": "python",
   "name": "python3"
  },
  "language_info": {
   "codemirror_mode": {
    "name": "ipython",
    "version": 3
   },
   "file_extension": ".py",
   "mimetype": "text/x-python",
   "name": "python",
   "nbconvert_exporter": "python",
   "pygments_lexer": "ipython3",
   "version": "3.7.4"
  }
 },
 "nbformat": 4,
 "nbformat_minor": 5
}
