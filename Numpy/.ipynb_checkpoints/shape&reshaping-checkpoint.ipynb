{
 "cells": [
  {
   "cell_type": "markdown",
   "id": "7a104073-98a9-4891-a507-6e885f120704",
   "metadata": {},
   "source": [
    "## Numpy Array Shape"
   ]
  },
  {
   "cell_type": "code",
   "execution_count": 1,
   "id": "e4f6348b-3b07-4146-8eef-c4f98273e5e0",
   "metadata": {},
   "outputs": [
    {
     "name": "stdout",
     "output_type": "stream",
     "text": [
      "(2, 3)\n"
     ]
    }
   ],
   "source": [
    "import numpy as np\n",
    "two_d= np.array([[1, 2, 3],\n",
    "                 [4, 5, 6]])\n",
    "\n",
    "print(two_d.shape)"
   ]
  },
  {
   "cell_type": "code",
   "execution_count": 3,
   "id": "d17561ec-24f7-4a91-b847-52d49014fa45",
   "metadata": {},
   "outputs": [
    {
     "name": "stdout",
     "output_type": "stream",
     "text": [
      "[[[[[1 7 8 3 5 4]]]]]\n",
      "shape of array : (1, 1, 1, 1, 6)\n"
     ]
    }
   ],
   "source": [
    "arr = np.array([1,7 ,8, 3,5, 4], ndmin=5)\n",
    "\n",
    "print(arr)\n",
    "print('shape of array :', arr.shape)"
   ]
  },
  {
   "cell_type": "code",
   "execution_count": 6,
   "id": "71383fa1-6ad8-4e68-9280-9a34f15ac6fc",
   "metadata": {},
   "outputs": [
    {
     "name": "stdout",
     "output_type": "stream",
     "text": [
      "(3, 5)\n"
     ]
    }
   ],
   "source": [
    "two_d= np.array([[1, 2, 3,7,8],\n",
    "                 [4, 5, 6,8,4,],\n",
    "                 [7, 3, 7,2,3,]\n",
    "                ])\n",
    "\n",
    "print(two_d.shape)"
   ]
  },
  {
   "cell_type": "markdown",
   "id": "de4b1f9f-8bfb-48d9-af4a-bdaaff6eacaf",
   "metadata": {},
   "source": [
    "# Numpy Array Reshaping"
   ]
  },
  {
   "cell_type": "code",
   "execution_count": 8,
   "id": "ada7d950-9384-4f84-975d-bdee57c0edd8",
   "metadata": {},
   "outputs": [],
   "source": [
    "# 1 Dimension to 2 Dimension\n",
    "\n",
    "one_dim = np.array([1, 2, 3, 4, 5, 6, 7, 8, 9, 10, 11, 12])\n",
    "\n",
    "new_shape = one_dim.reshape(4, 3)"
   ]
  },
  {
   "cell_type": "code",
   "execution_count": 9,
   "id": "787966cd-e62b-4413-8b18-493f5ed27586",
   "metadata": {},
   "outputs": [
    {
     "name": "stdout",
     "output_type": "stream",
     "text": [
      "[[ 1  2  3]\n",
      " [ 4  5  6]\n",
      " [ 7  8  9]\n",
      " [10 11 12]]\n"
     ]
    }
   ],
   "source": [
    "print(new_shape)"
   ]
  },
  {
   "cell_type": "code",
   "execution_count": 10,
   "id": "634f42bd-9407-4d57-905e-240f587e3426",
   "metadata": {},
   "outputs": [
    {
     "name": "stdout",
     "output_type": "stream",
     "text": [
      "[[ 1  2]\n",
      " [ 3  4]\n",
      " [ 5  6]\n",
      " [ 7  8]\n",
      " [ 9 10]\n",
      " [11 12]]\n"
     ]
    }
   ],
   "source": [
    "ano_shape =one_dim.reshape(6,2)\n",
    "print(ano_shape)"
   ]
  },
  {
   "cell_type": "code",
   "execution_count": 11,
   "id": "de794a26-1c40-4e9d-8336-59a307e42a89",
   "metadata": {},
   "outputs": [
    {
     "name": "stdout",
     "output_type": "stream",
     "text": [
      "[[ 1  2  3  4]\n",
      " [ 5  6  7  8]\n",
      " [ 9 10 11 12]]\n"
     ]
    }
   ],
   "source": [
    "nwshape=one_dim.reshape(3,4)\n",
    "print(nwshape)"
   ]
  },
  {
   "cell_type": "markdown",
   "id": "65372ee5-952a-4ba8-8420-345802fbd6b3",
   "metadata": {},
   "source": [
    "### Reshape from 1 Dimension to 3 Dimension"
   ]
  },
  {
   "cell_type": "code",
   "execution_count": 12,
   "id": "fa2e03cf-734b-4251-90b2-ec4141b0356e",
   "metadata": {},
   "outputs": [
    {
     "name": "stdout",
     "output_type": "stream",
     "text": [
      "[[[ 1  2  3]\n",
      "  [ 4  5  6]]\n",
      "\n",
      " [[ 7  8  9]\n",
      "  [10 11 12]]]\n"
     ]
    }
   ],
   "source": [
    "newarr = one_dim.reshape(2,2,3)\n",
    "print(newarr)"
   ]
  },
  {
   "cell_type": "code",
   "execution_count": 14,
   "id": "13e0cbcf-8db2-48f7-b795-b9dcab6f337c",
   "metadata": {},
   "outputs": [
    {
     "name": "stdout",
     "output_type": "stream",
     "text": [
      "[ 1  2  3  4  5  6  7  8  9 10 11 12]\n"
     ]
    }
   ],
   "source": [
    "print(newarr.base)"
   ]
  },
  {
   "cell_type": "markdown",
   "id": "8fb75c53-590e-4429-9a19-280b4bcece1c",
   "metadata": {},
   "source": [
    "## Unknown Dimension"
   ]
  },
  {
   "cell_type": "code",
   "execution_count": 15,
   "id": "4e6d1add-5ab0-4530-a161-6eb829ffa5c4",
   "metadata": {},
   "outputs": [
    {
     "name": "stdout",
     "output_type": "stream",
     "text": [
      "[[[ 1  2  3]\n",
      "  [ 4  5  6]]\n",
      "\n",
      " [[ 7  8  9]\n",
      "  [10 11 12]]]\n"
     ]
    }
   ],
   "source": [
    "another_one=one_dim.reshape(2,2,-1)\n",
    "print(another_one)"
   ]
  },
  {
   "cell_type": "code",
   "execution_count": 16,
   "id": "cefed3c0-37aa-4b7d-a17e-018803938507",
   "metadata": {},
   "outputs": [
    {
     "name": "stdout",
     "output_type": "stream",
     "text": [
      "[ 1  2  3  4  5  6  7  8  9 10 11 12]\n"
     ]
    }
   ],
   "source": [
    "##Flattening the array\n",
    "arr =another_one.reshape(-1)\n",
    "print(arr)"
   ]
  },
  {
   "cell_type": "markdown",
   "id": "9fb5775a-1d88-46b0-9ba1-55dec7a47dd7",
   "metadata": {},
   "source": [
    "## Iterating Arrays Using nditer()"
   ]
  },
  {
   "cell_type": "code",
   "execution_count": 18,
   "id": "d1ad3043-570c-4d82-929d-a852f5418cc0",
   "metadata": {},
   "outputs": [
    {
     "name": "stdout",
     "output_type": "stream",
     "text": [
      "1\n",
      "2\n",
      "3\n",
      "4\n",
      "5\n",
      "6\n",
      "7\n",
      "8\n"
     ]
    }
   ],
   "source": [
    "# for us to be able to loop into multidimension\n",
    "#nditer is always used\n",
    "arr = np.array([[[1, 2], [3, 4]], [[5, 6], [7, 8]]])\n",
    "\n",
    "for x in np.nditer(arr):\n",
    "    print(x)"
   ]
  },
  {
   "cell_type": "code",
   "execution_count": 20,
   "id": "bd59c894-ae67-4ef5-8d11-dd20f67745da",
   "metadata": {},
   "outputs": [
    {
     "name": "stdout",
     "output_type": "stream",
     "text": [
      "1\n",
      "2\n",
      "3\n",
      "4\n",
      "5\n",
      "6\n",
      "7\n",
      "8\n"
     ]
    }
   ],
   "source": [
    "for x in arr:\n",
    "    for a in x:\n",
    "        for y in a:\n",
    "            print(y)#a longer process uding for loop"
   ]
  },
  {
   "cell_type": "code",
   "execution_count": null,
   "id": "887998b8-f0db-42e0-afd6-44f6958e986a",
   "metadata": {},
   "outputs": [],
   "source": []
  }
 ],
 "metadata": {
  "kernelspec": {
   "display_name": "Python 3 (ipykernel)",
   "language": "python",
   "name": "python3"
  },
  "language_info": {
   "codemirror_mode": {
    "name": "ipython",
    "version": 3
   },
   "file_extension": ".py",
   "mimetype": "text/x-python",
   "name": "python",
   "nbconvert_exporter": "python",
   "pygments_lexer": "ipython3",
   "version": "3.8.8"
  }
 },
 "nbformat": 4,
 "nbformat_minor": 5
}
