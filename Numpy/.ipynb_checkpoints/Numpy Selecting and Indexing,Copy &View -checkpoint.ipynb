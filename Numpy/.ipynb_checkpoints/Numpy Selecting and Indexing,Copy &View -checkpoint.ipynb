{
 "cells": [
  {
   "cell_type": "markdown",
   "id": "368fa9d6",
   "metadata": {},
   "source": [
    "## Numpy Array Slicing"
   ]
  },
  {
   "cell_type": "code",
   "execution_count": 3,
   "id": "dc3daf1f",
   "metadata": {},
   "outputs": [
    {
     "name": "stdout",
     "output_type": "stream",
     "text": [
      "[2 3 4 5]\n"
     ]
    }
   ],
   "source": [
    "import numpy as np\n",
    "\n",
    "arr = np.array([1, 2, 3, 4, 5, 6, 7,8,9,10,11])\n",
    "\n",
    "print(arr[1:5])"
   ]
  },
  {
   "cell_type": "code",
   "execution_count": 6,
   "id": "9c9f7a27",
   "metadata": {},
   "outputs": [],
   "source": [
    "# !pip install numpy\n"
   ]
  },
  {
   "cell_type": "code",
   "execution_count": 4,
   "id": "741538fe",
   "metadata": {},
   "outputs": [
    {
     "data": {
      "text/plain": [
       "array([1, 2, 3, 4])"
      ]
     },
     "execution_count": 4,
     "metadata": {},
     "output_type": "execute_result"
    }
   ],
   "source": [
    "arr[:4]"
   ]
  },
  {
   "cell_type": "code",
   "execution_count": 5,
   "id": "ad9c1077",
   "metadata": {},
   "outputs": [
    {
     "name": "stdout",
     "output_type": "stream",
     "text": [
      "[ 5  6  7  8  9 10 11]\n"
     ]
    }
   ],
   "source": [
    "print(arr[4:])"
   ]
  },
  {
   "cell_type": "markdown",
   "id": "676b0c41",
   "metadata": {},
   "source": [
    "## Negative Slicing"
   ]
  },
  {
   "cell_type": "code",
   "execution_count": 7,
   "id": "a26abe94",
   "metadata": {},
   "outputs": [
    {
     "name": "stdout",
     "output_type": "stream",
     "text": [
      "[ 9 10]\n"
     ]
    }
   ],
   "source": [
    "print(arr[-3:-1])# start: end\n"
   ]
  },
  {
   "cell_type": "code",
   "execution_count": 8,
   "id": "3e3638b7",
   "metadata": {},
   "outputs": [
    {
     "name": "stdout",
     "output_type": "stream",
     "text": [
      "[ 1  3  5  7  9 11]\n"
     ]
    }
   ],
   "source": [
    "## Step\n",
    "print(arr[::2])## Step 2"
   ]
  },
  {
   "cell_type": "code",
   "execution_count": 9,
   "id": "1adb7b8b",
   "metadata": {},
   "outputs": [
    {
     "name": "stdout",
     "output_type": "stream",
     "text": [
      "[2 5 8]\n"
     ]
    }
   ],
   "source": [
    "print(arr[1:10:3])## step 3"
   ]
  },
  {
   "cell_type": "code",
   "execution_count": 10,
   "id": "b8f58adc",
   "metadata": {},
   "outputs": [
    {
     "name": "stdout",
     "output_type": "stream",
     "text": [
      "[[1 2 3]\n",
      " [4 5 6]]\n"
     ]
    }
   ],
   "source": [
    "## Slicing Two D arrays\n",
    "two_d= np.array([[1, 2, 3],\n",
    "                 [4, 5, 6]])\n",
    "\n",
    "print(two_d)"
   ]
  },
  {
   "cell_type": "code",
   "execution_count": 15,
   "id": "90191fd3",
   "metadata": {},
   "outputs": [
    {
     "data": {
      "text/plain": [
       "array([[1, 2, 3],\n",
       "       [4, 5, 6]])"
      ]
     },
     "execution_count": 15,
     "metadata": {},
     "output_type": "execute_result"
    }
   ],
   "source": [
    "two_d[:,:]"
   ]
  },
  {
   "cell_type": "code",
   "execution_count": 17,
   "id": "7ec8721d",
   "metadata": {},
   "outputs": [
    {
     "data": {
      "text/plain": [
       "array([2])"
      ]
     },
     "execution_count": 17,
     "metadata": {},
     "output_type": "execute_result"
    }
   ],
   "source": [
    "two_d[0:1,1]"
   ]
  },
  {
   "cell_type": "markdown",
   "id": "fd1b3d53",
   "metadata": {},
   "source": [
    "### Checking the datatypes of an Array"
   ]
  },
  {
   "cell_type": "code",
   "execution_count": 20,
   "id": "8d1490f8",
   "metadata": {},
   "outputs": [
    {
     "data": {
      "text/plain": [
       "dtype('int32')"
      ]
     },
     "execution_count": 20,
     "metadata": {},
     "output_type": "execute_result"
    }
   ],
   "source": [
    "two_d.dtype"
   ]
  },
  {
   "cell_type": "code",
   "execution_count": 21,
   "id": "e7356716",
   "metadata": {},
   "outputs": [
    {
     "name": "stdout",
     "output_type": "stream",
     "text": [
      "<U6\n"
     ]
    }
   ],
   "source": [
    "numpy_str = np.array(['apple', 'banana', 'cherry'])\n",
    "\n",
    "print(numpy_str.dtype)"
   ]
  },
  {
   "cell_type": "markdown",
   "id": "fcbaca6f",
   "metadata": {},
   "source": [
    "### Creating Arrays With a Defined Datatype"
   ]
  },
  {
   "cell_type": "code",
   "execution_count": 22,
   "id": "8973f6c0",
   "metadata": {},
   "outputs": [
    {
     "name": "stdout",
     "output_type": "stream",
     "text": [
      "[b'6' b'2' b'8' b'4']\n",
      "|S1\n"
     ]
    }
   ],
   "source": [
    "arr = np.array([6, 2, 8, 4], dtype='S')\n",
    "\n",
    "print(arr)\n",
    "print(arr.dtype)"
   ]
  },
  {
   "cell_type": "code",
   "execution_count": 23,
   "id": "38268dfb",
   "metadata": {},
   "outputs": [
    {
     "name": "stdout",
     "output_type": "stream",
     "text": [
      "[6 2 8 4]\n",
      "int32\n"
     ]
    }
   ],
   "source": [
    "arr = np.array([6, 2, 8, 4], dtype='i4')\n",
    "\n",
    "print(arr)\n",
    "print(arr.dtype)"
   ]
  },
  {
   "cell_type": "markdown",
   "id": "e05d1ba7",
   "metadata": {},
   "source": [
    "### Converting Data Type on Existing Arrays"
   ]
  },
  {
   "cell_type": "code",
   "execution_count": 24,
   "id": "b00cee54",
   "metadata": {},
   "outputs": [
    {
     "name": "stdout",
     "output_type": "stream",
     "text": [
      "float32\n"
     ]
    }
   ],
   "source": [
    "newarr= arr.astype('f')\n",
    "print(newarr.dtype)"
   ]
  },
  {
   "cell_type": "code",
   "execution_count": 25,
   "id": "42a859d9",
   "metadata": {},
   "outputs": [
    {
     "data": {
      "text/plain": [
       "array([6., 2., 8., 4.], dtype=float32)"
      ]
     },
     "execution_count": 25,
     "metadata": {},
     "output_type": "execute_result"
    }
   ],
   "source": [
    "newarr"
   ]
  },
  {
   "cell_type": "code",
   "execution_count": 27,
   "id": "a286e7fb",
   "metadata": {},
   "outputs": [
    {
     "name": "stdout",
     "output_type": "stream",
     "text": [
      "int32\n"
     ]
    }
   ],
   "source": [
    "newerarr=newarr.astype(int)\n",
    "print(newerarr.dtype)"
   ]
  },
  {
   "cell_type": "code",
   "execution_count": 29,
   "id": "429a4ed9",
   "metadata": {},
   "outputs": [
    {
     "name": "stdout",
     "output_type": "stream",
     "text": [
      "bool\n"
     ]
    }
   ],
   "source": [
    "latest=newerarr.astype(bool)\n",
    "print(latest.dtype)"
   ]
  },
  {
   "cell_type": "code",
   "execution_count": 30,
   "id": "ca083672",
   "metadata": {},
   "outputs": [
    {
     "data": {
      "text/plain": [
       "array([ True,  True,  True,  True])"
      ]
     },
     "execution_count": 30,
     "metadata": {},
     "output_type": "execute_result"
    }
   ],
   "source": [
    "latest"
   ]
  },
  {
   "cell_type": "markdown",
   "id": "efcdde4b",
   "metadata": {},
   "source": [
    "### Numpy Array Copy Vs view"
   ]
  },
  {
   "cell_type": "code",
   "execution_count": 32,
   "id": "84440ebc",
   "metadata": {},
   "outputs": [
    {
     "name": "stdout",
     "output_type": "stream",
     "text": [
      "[21  8  3  4  9]\n",
      "[1 8 3 4 9]\n"
     ]
    }
   ],
   "source": [
    "\n",
    "a = np.array([1, 8, 3, 4, 9])\n",
    "x = a.copy()\n",
    "a[0] = 21\n",
    "\n",
    "print(a)\n",
    "print(x)"
   ]
  },
  {
   "cell_type": "code",
   "execution_count": 33,
   "id": "16077109",
   "metadata": {},
   "outputs": [
    {
     "name": "stdout",
     "output_type": "stream",
     "text": [
      "[23  8  3  4  9]\n",
      "[23  8  3  4  9]\n"
     ]
    }
   ],
   "source": [
    "b = a.view()\n",
    "a[0]=23\n",
    "print(a)\n",
    "print(b)# The view"
   ]
  },
  {
   "cell_type": "code",
   "execution_count": 35,
   "id": "7731f226",
   "metadata": {},
   "outputs": [
    {
     "name": "stdout",
     "output_type": "stream",
     "text": [
      "[23 45  3  4  9]\n",
      "[23 45  3  4  9]\n"
     ]
    }
   ],
   "source": [
    "#if we make changes to the view, it should affect the original\n",
    "b[1] = 45\n",
    "print(a)\n",
    "print(b)\n",
    "# the changes in the view also reflects in the original array"
   ]
  },
  {
   "cell_type": "code",
   "execution_count": null,
   "id": "e1601bb0",
   "metadata": {},
   "outputs": [],
   "source": []
  }
 ],
 "metadata": {
  "kernelspec": {
   "display_name": "Python 3 (ipykernel)",
   "language": "python",
   "name": "python3"
  },
  "language_info": {
   "codemirror_mode": {
    "name": "ipython",
    "version": 3
   },
   "file_extension": ".py",
   "mimetype": "text/x-python",
   "name": "python",
   "nbconvert_exporter": "python",
   "pygments_lexer": "ipython3",
   "version": "3.8.8"
  }
 },
 "nbformat": 4,
 "nbformat_minor": 5
}
