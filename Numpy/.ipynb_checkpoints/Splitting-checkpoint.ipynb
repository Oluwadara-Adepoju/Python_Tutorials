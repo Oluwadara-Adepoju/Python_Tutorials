{
 "cells": [
  {
   "cell_type": "code",
   "execution_count": 1,
   "id": "36dba1d7-01cf-482b-b070-e7d28ddfb84d",
   "metadata": {},
   "outputs": [
    {
     "name": "stdout",
     "output_type": "stream",
     "text": [
      "[array([1, 2]), array([3, 4]), array([5, 6])]\n"
     ]
    }
   ],
   "source": [
    "import numpy as np\n",
    "\n",
    "arr = np.array([1, 2, 3, 4, 5, 6])\n",
    "\n",
    "newarr = np.array_split(arr, 3)\n",
    "\n",
    "print(newarr)\n"
   ]
  },
  {
   "cell_type": "code",
   "execution_count": 2,
   "id": "3666f7ce-231b-431f-a9f8-2cffdcd3a422",
   "metadata": {},
   "outputs": [
    {
     "name": "stdout",
     "output_type": "stream",
     "text": [
      "[array([1, 2]), array([3, 4]), array([5]), array([6])]\n"
     ]
    }
   ],
   "source": [
    "n= np.array_split(arr, 4)\n",
    "\n",
    "print(n)"
   ]
  },
  {
   "cell_type": "code",
   "execution_count": 3,
   "id": "9de2790a-29ee-4b00-b1b6-c5d5ffae6175",
   "metadata": {},
   "outputs": [
    {
     "ename": "ValueError",
     "evalue": "array split does not result in an equal division",
     "output_type": "error",
     "traceback": [
      "\u001b[1;31m---------------------------------------------------------------------------\u001b[0m",
      "\u001b[1;31mValueError\u001b[0m                                Traceback (most recent call last)",
      "Input \u001b[1;32mIn [3]\u001b[0m, in \u001b[0;36m<cell line: 1>\u001b[1;34m()\u001b[0m\n\u001b[1;32m----> 1\u001b[0m s\u001b[38;5;241m=\u001b[39m \u001b[43mnp\u001b[49m\u001b[38;5;241;43m.\u001b[39;49m\u001b[43msplit\u001b[49m\u001b[43m(\u001b[49m\u001b[43marr\u001b[49m\u001b[43m,\u001b[49m\u001b[43m \u001b[49m\u001b[38;5;241;43m4\u001b[39;49m\u001b[43m)\u001b[49m\n\u001b[0;32m      3\u001b[0m \u001b[38;5;28mprint\u001b[39m(s)\n",
      "File \u001b[1;32m<__array_function__ internals>:180\u001b[0m, in \u001b[0;36msplit\u001b[1;34m(*args, **kwargs)\u001b[0m\n",
      "File \u001b[1;32m~\\anaconda4\\lib\\site-packages\\numpy\\lib\\shape_base.py:872\u001b[0m, in \u001b[0;36msplit\u001b[1;34m(ary, indices_or_sections, axis)\u001b[0m\n\u001b[0;32m    870\u001b[0m     N \u001b[38;5;241m=\u001b[39m ary\u001b[38;5;241m.\u001b[39mshape[axis]\n\u001b[0;32m    871\u001b[0m     \u001b[38;5;28;01mif\u001b[39;00m N \u001b[38;5;241m%\u001b[39m sections:\n\u001b[1;32m--> 872\u001b[0m         \u001b[38;5;28;01mraise\u001b[39;00m \u001b[38;5;167;01mValueError\u001b[39;00m(\n\u001b[0;32m    873\u001b[0m             \u001b[38;5;124m'\u001b[39m\u001b[38;5;124marray split does not result in an equal division\u001b[39m\u001b[38;5;124m'\u001b[39m) \u001b[38;5;28;01mfrom\u001b[39;00m \u001b[38;5;28mNone\u001b[39m\n\u001b[0;32m    874\u001b[0m \u001b[38;5;28;01mreturn\u001b[39;00m array_split(ary, indices_or_sections, axis)\n",
      "\u001b[1;31mValueError\u001b[0m: array split does not result in an equal division"
     ]
    }
   ],
   "source": [
    "s= np.split(arr, 4)# print out an error\n",
    "\n",
    "print(s)"
   ]
  },
  {
   "cell_type": "code",
   "execution_count": 4,
   "id": "9fdab037-87b1-43f1-aadc-95f90733bf5e",
   "metadata": {},
   "outputs": [
    {
     "name": "stdout",
     "output_type": "stream",
     "text": [
      "[1 2]\n",
      "[3 4]\n",
      "[5]\n"
     ]
    }
   ],
   "source": [
    "#Access the splitted arrays\n",
    "print(n[0])#The splitted arrays can be indexed\n",
    "print(n[1])\n",
    "print(n[2])"
   ]
  },
  {
   "cell_type": "markdown",
   "id": "dd707570-6f3d-4876-a2f6-03664317eef1",
   "metadata": {},
   "source": [
    "## Splitting 2-D Arrays"
   ]
  },
  {
   "cell_type": "code",
   "execution_count": 5,
   "id": "b5dfbcb5-0bab-45bb-a18f-1b4e915c53a9",
   "metadata": {},
   "outputs": [
    {
     "name": "stdout",
     "output_type": "stream",
     "text": [
      "[array([[1, 2],\n",
      "       [3, 4]]), array([[5, 6],\n",
      "       [7, 8]]), array([[ 9, 10],\n",
      "       [11, 12]]), array([[13, 14],\n",
      "       [15, 16]])]\n"
     ]
    }
   ],
   "source": [
    "two_dim=np.array([[1, 2], [3, 4], [5, 6], [7, 8], [9, 10], [11, 12],[13,14],[15,16]])\n",
    "\n",
    "two_di=np.array_split(two_dim,4) \n",
    "print(two_di)"
   ]
  },
  {
   "cell_type": "code",
   "execution_count": 6,
   "id": "5f8a9006-b269-4e0c-92e5-5b6303f2b680",
   "metadata": {},
   "outputs": [
    {
     "name": "stdout",
     "output_type": "stream",
     "text": [
      "[array([[ 1],\n",
      "       [ 3],\n",
      "       [ 5],\n",
      "       [ 7],\n",
      "       [ 9],\n",
      "       [11],\n",
      "       [13],\n",
      "       [15]]), array([[ 2],\n",
      "       [ 4],\n",
      "       [ 6],\n",
      "       [ 8],\n",
      "       [10],\n",
      "       [12],\n",
      "       [14],\n",
      "       [16]]), array([], shape=(8, 0), dtype=int32), array([], shape=(8, 0), dtype=int32)]\n"
     ]
    }
   ],
   "source": [
    "two_dim=np.array([[1, 2],\n",
    "                  [3, 4], \n",
    "                  [5, 6], \n",
    "                  [7, 8], \n",
    "                  [9, 10], [11, 12],[13,14],[15,16]])\n",
    "\n",
    "two_di=np.array_split(two_dim,4,axis=1) \n",
    "print(two_di)# you can split the array along the row"
   ]
  },
  {
   "cell_type": "code",
   "execution_count": 7,
   "id": "a4554d06-9251-4c0b-86de-8a9dfc7dee13",
   "metadata": {},
   "outputs": [
    {
     "name": "stdout",
     "output_type": "stream",
     "text": [
      "[array([1, 2]), array([3, 4]), array([5, 6])]\n"
     ]
    }
   ],
   "source": [
    "nwarr = np.hsplit(arr, 3)\n",
    "\n",
    "print(nwarr)"
   ]
  },
  {
   "cell_type": "markdown",
   "id": "068201de-eb58-4e58-9550-583bc2c9329b",
   "metadata": {},
   "source": [
    "### Numpy Searching Array "
   ]
  },
  {
   "cell_type": "code",
   "execution_count": 8,
   "id": "c18f2903-0b04-4a9a-8c0f-68b56b47ce05",
   "metadata": {},
   "outputs": [
    {
     "name": "stdout",
     "output_type": "stream",
     "text": [
      "(array([7, 8], dtype=int64),)\n"
     ]
    }
   ],
   "source": [
    "arr = np.array([1, 2, 3, 4,2, 5, 7,6,6, 8,10])\n",
    "where = np.where(arr==6)\n",
    "print(where)# indicates the index location"
   ]
  },
  {
   "cell_type": "code",
   "execution_count": 9,
   "id": "4dcdd9d4-f362-4406-bba4-9f7812379950",
   "metadata": {},
   "outputs": [
    {
     "name": "stdout",
     "output_type": "stream",
     "text": [
      "(array([ 1,  3,  4,  7,  8,  9, 10], dtype=int64),)\n"
     ]
    }
   ],
   "source": [
    "even= np.where(arr%2 == 0)\n",
    "\n",
    "print(even)\n"
   ]
  },
  {
   "cell_type": "code",
   "execution_count": 10,
   "id": "6f1366cf-1839-4ed5-a677-00a21ab3892f",
   "metadata": {},
   "outputs": [
    {
     "name": "stdout",
     "output_type": "stream",
     "text": [
      "(array([ 1,  3,  4,  7,  8,  9, 10], dtype=int64),)\n"
     ]
    }
   ],
   "source": [
    "odd= np.where(arr%2 == 0)\n",
    "\n",
    "print(odd)\n"
   ]
  },
  {
   "cell_type": "markdown",
   "id": "f3d5391a-d38c-4f73-ac38-a0e9a983b907",
   "metadata": {},
   "source": [
    "## Search Sorted"
   ]
  },
  {
   "cell_type": "code",
   "execution_count": 11,
   "id": "52147b36-6f02-4a14-bf47-df935cfed1fd",
   "metadata": {},
   "outputs": [
    {
     "name": "stdout",
     "output_type": "stream",
     "text": [
      "6\n"
     ]
    }
   ],
   "source": [
    "six = np.searchsorted(arr, 6)\n",
    "print(six)"
   ]
  },
  {
   "cell_type": "code",
   "execution_count": 12,
   "id": "33fe09d1-9454-42d9-8394-78665bad9ff7",
   "metadata": {},
   "outputs": [
    {
     "name": "stdout",
     "output_type": "stream",
     "text": [
      "9\n"
     ]
    }
   ],
   "source": [
    "right = np.searchsorted(arr, 6,side='right')# you can also indicate the side\n",
    "print(right)"
   ]
  },
  {
   "cell_type": "markdown",
   "id": "9e9d9b1e-2ca7-4539-b513-04eb613e91f0",
   "metadata": {},
   "source": [
    "## Sorting Arrays"
   ]
  },
  {
   "cell_type": "code",
   "execution_count": 13,
   "id": "57966713-658d-4c87-a185-fb797cebe6a6",
   "metadata": {},
   "outputs": [
    {
     "name": "stdout",
     "output_type": "stream",
     "text": [
      "[ 1  2  2  3  4  5  6  6  7  8 10]\n"
     ]
    }
   ],
   "source": [
    "print(np.sort(arr))"
   ]
  },
  {
   "cell_type": "code",
   "execution_count": 14,
   "id": "7cf42a71-402e-4224-891c-ff20b483e7e8",
   "metadata": {},
   "outputs": [
    {
     "name": "stdout",
     "output_type": "stream",
     "text": [
      "[False False  True  True]\n"
     ]
    }
   ],
   "source": [
    "\n",
    "boo = np.array([True, False, True,False])\n",
    "\n",
    "print(np.sort(boo))"
   ]
  },
  {
   "cell_type": "markdown",
   "id": "67773462-a6fb-4e1d-b851-9d0e0de8b955",
   "metadata": {},
   "source": [
    "### Sorting a 2-D array"
   ]
  },
  {
   "cell_type": "code",
   "execution_count": 15,
   "id": "ee663509-45b3-4f8b-a4fb-be845961202b",
   "metadata": {},
   "outputs": [
    {
     "name": "stdout",
     "output_type": "stream",
     "text": [
      "[[ 1  2]\n",
      " [ 3  4]\n",
      " [ 5  6]\n",
      " [ 7  8]\n",
      " [ 9 10]\n",
      " [11 12]\n",
      " [13 14]\n",
      " [15 16]]\n"
     ]
    }
   ],
   "source": [
    "\n",
    "\n",
    "print(np.sort(two_dim))"
   ]
  },
  {
   "cell_type": "markdown",
   "id": "a0387378-dd26-4b25-83e7-56a48a8166d2",
   "metadata": {},
   "source": [
    "### Numpy Filter Array"
   ]
  },
  {
   "cell_type": "code",
   "execution_count": 16,
   "id": "66f9b2d7-0720-401e-b386-dce4b9798e7e",
   "metadata": {},
   "outputs": [
    {
     "name": "stdout",
     "output_type": "stream",
     "text": [
      "[41 43]\n"
     ]
    }
   ],
   "source": [
    "arr = np.array([41, 42, 43, 44])\n",
    "\n",
    "x = [True, False, True, False]\n",
    "\n",
    "newarr = arr[x]\n",
    "\n",
    "print(newarr)"
   ]
  },
  {
   "cell_type": "code",
   "execution_count": 17,
   "id": "07972abb-9ed4-40cc-aa9c-6eef1b8ac97d",
   "metadata": {},
   "outputs": [
    {
     "name": "stdout",
     "output_type": "stream",
     "text": [
      "[False, False, True, True]\n",
      "[43 44]\n"
     ]
    }
   ],
   "source": [
    "arr = np.array([41, 42, 43, 44])\n",
    "\n",
    "# Create an empty list\n",
    "filter_arr = []\n",
    "\n",
    "# go through each element in arr\n",
    "for element in arr:\n",
    "  # if the element is higher than 42, set the value to True, otherwise False:\n",
    "      if element > 42:\n",
    "        filter_arr.append(True)\n",
    "      else:\n",
    "        filter_arr.append(False)\n",
    "\n",
    "newarr = arr[filter_arr]\n",
    "\n",
    "print(filter_arr)\n",
    "print(newarr)"
   ]
  },
  {
   "cell_type": "markdown",
   "id": "c7ae5f5d-bc78-4e8c-869d-8eeea2ccc529",
   "metadata": {},
   "source": [
    " ### Creating a filter Directly from an Array"
   ]
  },
  {
   "cell_type": "code",
   "execution_count": 18,
   "id": "e2a835e9-5d51-4b1d-8c4b-4d7749c3ca40",
   "metadata": {},
   "outputs": [
    {
     "name": "stdout",
     "output_type": "stream",
     "text": [
      "[False False  True  True]\n",
      "[43 44]\n"
     ]
    }
   ],
   "source": [
    "\n",
    "filter_arr = arr > 42\n",
    "\n",
    "newarr = arr[filter_arr]\n",
    "\n",
    "print(filter_arr)\n",
    "print(newarr)"
   ]
  },
  {
   "cell_type": "code",
   "execution_count": 19,
   "id": "9a960f01-219d-40e6-991e-30538d482484",
   "metadata": {},
   "outputs": [
    {
     "name": "stdout",
     "output_type": "stream",
     "text": [
      "[False  True False  True False  True False]\n",
      "[2 4 6]\n"
     ]
    }
   ],
   "source": [
    "arr = np.array([1, 2, 3, 4, 5, 6, 7])\n",
    "\n",
    "filter_arr = arr % 2 == 0\n",
    "\n",
    "newarr = arr[filter_arr]\n",
    "\n",
    "print(filter_arr)\n",
    "print(newarr)"
   ]
  },
  {
   "cell_type": "markdown",
   "id": "f3522727-0253-40be-8a62-a2e285309a45",
   "metadata": {},
   "source": [
    "## Random Numbers"
   ]
  },
  {
   "cell_type": "code",
   "execution_count": null,
   "id": "a45bc9cf-aedc-4d67-a9f6-49a4be8cdf36",
   "metadata": {},
   "outputs": [],
   "source": []
  }
 ],
 "metadata": {
  "kernelspec": {
   "display_name": "Python 3 (ipykernel)",
   "language": "python",
   "name": "python3"
  },
  "language_info": {
   "codemirror_mode": {
    "name": "ipython",
    "version": 3
   },
   "file_extension": ".py",
   "mimetype": "text/x-python",
   "name": "python",
   "nbconvert_exporter": "python",
   "pygments_lexer": "ipython3",
   "version": "3.8.8"
  }
 },
 "nbformat": 4,
 "nbformat_minor": 5
}
