{
 "cells": [
  {
   "cell_type": "markdown",
   "id": "f6fdd543-e737-4bc5-8c0f-8b481df73e15",
   "metadata": {},
   "source": [
    "### Numpy ufunc"
   ]
  },
  {
   "cell_type": "markdown",
   "id": "401ae7c0-59c7-4c89-8441-20dd13e78cf7",
   "metadata": {},
   "source": [
    "Numpy functions are what we call universal functions that are subjected to numpy array objectsUfuncts are also used for vectorization\n",
    "Vectorization is converting iteratives into vectors\n"
   ]
  },
  {
   "cell_type": "code",
   "execution_count": 1,
   "id": "ec408a18-4b72-4d5b-8f5f-e15c64dc4a04",
   "metadata": {},
   "outputs": [
    {
     "name": "stdout",
     "output_type": "stream",
     "text": [
      "[ 3  7 11 15]\n"
     ]
    }
   ],
   "source": [
    "#Addition of two list\n",
    "##Instead if iterating through the list we can \n",
    "import numpy as np\n",
    "a = [1,3,5,7]\n",
    "b= [2,4,6,8]\n",
    "c = np.add(a,b)\n",
    "print(c)"
   ]
  },
  {
   "cell_type": "code",
   "execution_count": 3,
   "id": "ec493768-4137-47c4-a960-58fc51f3a623",
   "metadata": {},
   "outputs": [
    {
     "data": {
      "text/plain": [
       "'To create a ufunc we have to define it and add it to the frompyfunc()'"
      ]
     },
     "execution_count": 3,
     "metadata": {},
     "output_type": "execute_result"
    }
   ],
   "source": [
    "## Creating Your own ufunc\n",
    "'''To create a ufunc we have to define it and add it to the frompyfunc()'''\n"
   ]
  },
  {
   "cell_type": "code",
   "execution_count": 4,
   "id": "9cd2cd7f-e8b1-49b3-9b84-2dc6834710fd",
   "metadata": {},
   "outputs": [
    {
     "name": "stdout",
     "output_type": "stream",
     "text": [
      "[-11 -5]\n"
     ]
    }
   ],
   "source": [
    "def subtract(a,b,c):\n",
    "    return a-b-c\n",
    "subtract = np.frompyfunc(subtract,3,1)\n",
    "print(subtract([1,4],[8,3],[4,6]))"
   ]
  },
  {
   "cell_type": "code",
   "execution_count": 5,
   "id": "8fb9827e-6a07-4d5f-9886-03d4915c6df4",
   "metadata": {},
   "outputs": [
    {
     "name": "stdout",
     "output_type": "stream",
     "text": [
      "<class 'numpy.ufunc'>\n"
     ]
    }
   ],
   "source": [
    "### Checking if a function is ufunc\n",
    "print(type(np.subtract))"
   ]
  },
  {
   "cell_type": "code",
   "execution_count": 7,
   "id": "ff5ee418-53bb-4dfd-a8f3-48879b16541b",
   "metadata": {},
   "outputs": [
    {
     "name": "stdout",
     "output_type": "stream",
     "text": [
      "<class 'numpy.ufunc'>\n",
      "<class 'function'>\n"
     ]
    },
    {
     "data": {
      "text/plain": [
       "(None, None)"
      ]
     },
     "execution_count": 7,
     "metadata": {},
     "output_type": "execute_result"
    }
   ],
   "source": [
    "print(type(np.floor)),print(type(np.shape)),"
   ]
  },
  {
   "cell_type": "code",
   "execution_count": 8,
   "id": "e831ddbb-aaaf-474e-8655-9b4612251dae",
   "metadata": {},
   "outputs": [
    {
     "ename": "AttributeError",
     "evalue": "module 'numpy' has no attribute 'maxx'",
     "output_type": "error",
     "traceback": [
      "\u001b[1;31m---------------------------------------------------------------------------\u001b[0m",
      "\u001b[1;31mAttributeError\u001b[0m                            Traceback (most recent call last)",
      "\u001b[1;32m~\\AppData\\Local\\Temp/ipykernel_2512/2868702100.py\u001b[0m in \u001b[0;36m<module>\u001b[1;34m\u001b[0m\n\u001b[0;32m      1\u001b[0m \u001b[1;31m###Check if ufunc is real\u001b[0m\u001b[1;33m\u001b[0m\u001b[1;33m\u001b[0m\u001b[1;33m\u001b[0m\u001b[0m\n\u001b[0;32m      2\u001b[0m \u001b[1;33m\u001b[0m\u001b[0m\n\u001b[1;32m----> 3\u001b[1;33m \u001b[0mprint\u001b[0m\u001b[1;33m(\u001b[0m\u001b[0mtype\u001b[0m\u001b[1;33m(\u001b[0m\u001b[0mnp\u001b[0m\u001b[1;33m.\u001b[0m\u001b[0mmaxx\u001b[0m\u001b[1;33m)\u001b[0m\u001b[1;33m)\u001b[0m\u001b[1;33m\u001b[0m\u001b[1;33m\u001b[0m\u001b[0m\n\u001b[0m",
      "\u001b[1;32m~\\Anaconda3\\lib\\site-packages\\numpy\\__init__.py\u001b[0m in \u001b[0;36m__getattr__\u001b[1;34m(attr)\u001b[0m\n\u001b[0;32m    312\u001b[0m \u001b[1;33m\u001b[0m\u001b[0m\n\u001b[0;32m    313\u001b[0m             raise AttributeError(\"module {!r} has no attribute \"\n\u001b[1;32m--> 314\u001b[1;33m                                  \"{!r}\".format(__name__, attr))\n\u001b[0m\u001b[0;32m    315\u001b[0m \u001b[1;33m\u001b[0m\u001b[0m\n\u001b[0;32m    316\u001b[0m         \u001b[1;32mdef\u001b[0m \u001b[0m__dir__\u001b[0m\u001b[1;33m(\u001b[0m\u001b[1;33m)\u001b[0m\u001b[1;33m:\u001b[0m\u001b[1;33m\u001b[0m\u001b[1;33m\u001b[0m\u001b[0m\n",
      "\u001b[1;31mAttributeError\u001b[0m: module 'numpy' has no attribute 'maxx'"
     ]
    }
   ],
   "source": [
    "###Check if ufunc is real\n",
    "\n",
    "print(type(np.maxx))"
   ]
  },
  {
   "cell_type": "markdown",
   "id": "3afb3248-a6e9-47e6-9ad1-8ba7dbdbd696",
   "metadata": {},
   "source": [
    "The error message indicates that it can't be found or its not recognized"
   ]
  },
  {
   "cell_type": "code",
   "execution_count": 10,
   "id": "d841ca67-cd34-4124-bd1f-507665c9e0a4",
   "metadata": {},
   "outputs": [
    {
     "name": "stdout",
     "output_type": "stream",
     "text": [
      "floor is ufunc\n"
     ]
    }
   ],
   "source": [
    "\n",
    "\n",
    "if type(np.floor)==np.ufunc:\n",
    "      print('floor is ufunc')\n",
    "else:\n",
    "    print('floor is not ufunc')"
   ]
  },
  {
   "cell_type": "markdown",
   "id": "971648bf-54b8-4dfb-89b5-9e12c9817224",
   "metadata": {},
   "source": [
    "#### Simple Arithemetics"
   ]
  },
  {
   "cell_type": "code",
   "execution_count": 11,
   "id": "1429dec5-0821-4e7c-a21d-eda568815e50",
   "metadata": {},
   "outputs": [
    {
     "name": "stdout",
     "output_type": "stream",
     "text": [
      "[32 55 47 68 47 81]\n"
     ]
    }
   ],
   "source": [
    "#add\n",
    "arr = np.array([12, 34,25,45,23,56,])\n",
    "arr1 = np.array([20, 21, 22, 23, 24, 25])\n",
    "\n",
    "arrs = np.add(arr, arr1)\n",
    "\n",
    "print(arrs)\n"
   ]
  },
  {
   "cell_type": "code",
   "execution_count": 13,
   "id": "d1d6fdb4-2436-4847-a702-76c06a51fb2b",
   "metadata": {},
   "outputs": [
    {
     "name": "stdout",
     "output_type": "stream",
     "text": [
      "[-8 13  3 22 -1 31]\n"
     ]
    }
   ],
   "source": [
    "#subtraction\n",
    "arr_s = np.subtract(arr,arr1)\n",
    "print(arr_s)"
   ]
  },
  {
   "cell_type": "code",
   "execution_count": 14,
   "id": "edac4402-b485-4e14-b6d0-a55eae017b69",
   "metadata": {},
   "outputs": [
    {
     "name": "stdout",
     "output_type": "stream",
     "text": [
      "[ 240  714  550 1035  552 1400]\n"
     ]
    }
   ],
   "source": [
    "#multiply\n",
    "arr_m = np.multiply(arr,arr1)\n",
    "print(arr_m)"
   ]
  },
  {
   "cell_type": "code",
   "execution_count": 15,
   "id": "85550a10-334f-4175-b7db-f8ee7621cde7",
   "metadata": {},
   "outputs": [
    {
     "name": "stdout",
     "output_type": "stream",
     "text": [
      "[0.6        1.61904762 1.13636364 1.95652174 0.95833333 2.24      ]\n"
     ]
    }
   ],
   "source": [
    "# Division\n",
    "arr_d = np.divide(arr,arr1)\n",
    "print(arr_d)"
   ]
  },
  {
   "cell_type": "code",
   "execution_count": 16,
   "id": "8aa6f905-edb7-4251-a486-7a1abbb4041d",
   "metadata": {},
   "outputs": [
    {
     "name": "stdout",
     "output_type": "stream",
     "text": [
      "[         0 1780482048 1090523601 2011001989  708680385          0]\n"
     ]
    }
   ],
   "source": [
    "#Power\n",
    "arr_p = np.power(arr,arr1)\n",
    "print(arr_p)"
   ]
  },
  {
   "cell_type": "code",
   "execution_count": 17,
   "id": "b0e6c134-1222-41d9-9570-906f1f2f69f5",
   "metadata": {},
   "outputs": [
    {
     "name": "stdout",
     "output_type": "stream",
     "text": [
      "[12 13  3 22 23  6]\n"
     ]
    }
   ],
   "source": [
    "#Remainder & Mod\n",
    "arr_mod = np.mod(arr,arr1)\n",
    "print(arr_mod)"
   ]
  },
  {
   "cell_type": "code",
   "execution_count": 18,
   "id": "8b66ace4-b8cd-442c-9941-619034f8fec3",
   "metadata": {},
   "outputs": [
    {
     "name": "stdout",
     "output_type": "stream",
     "text": [
      "[12 13  3 22 23  6]\n"
     ]
    }
   ],
   "source": [
    "arr_remain = np.remainder(arr,arr1)\n",
    "print(arr_remain)"
   ]
  },
  {
   "cell_type": "code",
   "execution_count": 19,
   "id": "35ff66f0-9dfb-487c-bc29-b4c81c6d04d7",
   "metadata": {},
   "outputs": [
    {
     "name": "stdout",
     "output_type": "stream",
     "text": [
      "(array([0, 1, 1, 1, 0, 2], dtype=int32), array([12, 13,  3, 22, 23,  6], dtype=int32))\n"
     ]
    }
   ],
   "source": [
    "##Quotient\n",
    "arr_divmod = np.divmod(arr,arr1)\n",
    "print(arr_divmod)"
   ]
  },
  {
   "cell_type": "code",
   "execution_count": 20,
   "id": "5bf1a1fa-f354-4227-b29f-8092b352e1b5",
   "metadata": {},
   "outputs": [
    {
     "name": "stdout",
     "output_type": "stream",
     "text": [
      "[200  45  32 590  20]\n"
     ]
    }
   ],
   "source": [
    "#Absolute\n",
    "ab =[-200,-45,32,-590,-20]\n",
    "arr_abs= np.absolute(ab)\n",
    "print(arr_abs)"
   ]
  },
  {
   "cell_type": "markdown",
   "id": "62e561cc-b894-4425-a804-e013f4a95894",
   "metadata": {},
   "source": [
    "#### Rounding Decimals\n",
    "     *   Truncation\n",
    "     *   fix\n",
    "     *   rounding\n",
    "     *   floor\n",
    "     *   ceil"
   ]
  },
  {
   "cell_type": "code",
   "execution_count": 21,
   "id": "08a2e909-60b7-4004-bfc7-98efc94532df",
   "metadata": {},
   "outputs": [
    {
     "name": "stdout",
     "output_type": "stream",
     "text": [
      "[-4.  7.]\n"
     ]
    }
   ],
   "source": [
    "#Truncation\n",
    "trun= np.trunc([-4.567,7.1232])\n",
    "print(trun)"
   ]
  },
  {
   "cell_type": "code",
   "execution_count": 23,
   "id": "75e2ff01-e801-4290-90b1-bd73cb828d66",
   "metadata": {},
   "outputs": [
    {
     "name": "stdout",
     "output_type": "stream",
     "text": [
      "[-4.  7.]\n"
     ]
    }
   ],
   "source": [
    "#fix \n",
    "fix =np.fix([-4.567,7.1232])\n",
    "print(fix)"
   ]
  },
  {
   "cell_type": "code",
   "execution_count": 24,
   "id": "184e5a26-a4c4-4a07-81fb-47bea75c5279",
   "metadata": {},
   "outputs": [
    {
     "name": "stdout",
     "output_type": "stream",
     "text": [
      "4.342\n"
     ]
    }
   ],
   "source": [
    "#Rounding\n",
    "# You can also indicate the number of decimal places\n",
    "roun = np.around(4.34211,3)\n",
    "print(roun)\n"
   ]
  },
  {
   "cell_type": "code",
   "execution_count": 25,
   "id": "0ce35d67-e7d5-431f-9989-26906c2e2704",
   "metadata": {},
   "outputs": [
    {
     "name": "stdout",
     "output_type": "stream",
     "text": [
      "[-5.  7.]\n"
     ]
    }
   ],
   "source": [
    "#Floor rounds off to the nearest lower integer\n",
    "flr = np.floor([-4.567,7.1232])\n",
    "print(flr)\n"
   ]
  },
  {
   "cell_type": "code",
   "execution_count": 26,
   "id": "c484b8ea-afe2-410d-8170-8659e04e729e",
   "metadata": {},
   "outputs": [
    {
     "name": "stdout",
     "output_type": "stream",
     "text": [
      "[-4.  8.]\n"
     ]
    }
   ],
   "source": [
    "#ceil rounding off to the nearest upper integer\n",
    "ceil = np.ceil([-4.567,7.1232])\n",
    "print(ceil)\n"
   ]
  },
  {
   "cell_type": "code",
   "execution_count": 28,
   "id": "9fbded34-59e5-413c-8ae2-f86e5f96340d",
   "metadata": {},
   "outputs": [
    {
     "name": "stdout",
     "output_type": "stream",
     "text": [
      "[-4.  8.]\n"
     ]
    }
   ],
   "source": [
    "ceil_1 = np.ceil([-4.234, 7.6232])\n",
    "print(ceil_1)"
   ]
  },
  {
   "cell_type": "code",
   "execution_count": 29,
   "id": "50766044-3a77-48ed-b7bb-73b15ab25067",
   "metadata": {},
   "outputs": [
    {
     "name": "stdout",
     "output_type": "stream",
     "text": [
      "[5. 8.]\n"
     ]
    }
   ],
   "source": [
    "ceil_1 = np.ceil([4.234, 7.1133])\n",
    "print(ceil_1)"
   ]
  },
  {
   "cell_type": "markdown",
   "id": "c8646a40-d011-43a4-b2c9-6092c6d03978",
   "metadata": {},
   "source": [
    "#### Logarithm"
   ]
  },
  {
   "cell_type": "code",
   "execution_count": 31,
   "id": "bbbf7cbf-e22d-4b9a-a6d2-cdb29a361bb4",
   "metadata": {},
   "outputs": [
    {
     "name": "stdout",
     "output_type": "stream",
     "text": [
      "[4.32192809 4.39231742 4.45943162 4.52356196 4.5849625  4.64385619\n",
      " 4.70043972 4.7548875  4.80735492 4.857981  ]\n"
     ]
    }
   ],
   "source": [
    "# Log at Base 2\n",
    "base_2= np.arange(20,30)\n",
    "print(np.log2(base_2))"
   ]
  },
  {
   "cell_type": "code",
   "execution_count": 32,
   "id": "33ac7e81-e9ab-4d6d-8f86-cfcf84808920",
   "metadata": {},
   "outputs": [
    {
     "name": "stdout",
     "output_type": "stream",
     "text": [
      "[1.30103    1.32221929 1.34242268 1.36172784 1.38021124 1.39794001\n",
      " 1.41497335 1.43136376 1.44715803 1.462398  ]\n"
     ]
    }
   ],
   "source": [
    "##Log at Base 10\n",
    "base_10= np.arange(20,30)\n",
    "print(np.log10(base_10))"
   ]
  },
  {
   "cell_type": "code",
   "execution_count": 35,
   "id": "96edf9cc-d366-4180-88de-c4284ce3864f",
   "metadata": {},
   "outputs": [
    {
     "name": "stdout",
     "output_type": "stream",
     "text": [
      "[2.99573227 3.04452244 3.09104245 3.13549422 3.17805383 3.21887582\n",
      " 3.25809654 3.29583687 3.33220451 3.36729583]\n"
     ]
    }
   ],
   "source": [
    "#Natural Log\n",
    "base= np.arange(20,30)\n",
    "print(np.log(base))"
   ]
  },
  {
   "cell_type": "code",
   "execution_count": 38,
   "id": "b948648b-4010-4d7a-8e57-d1ade6d64ae7",
   "metadata": {},
   "outputs": [
    {
     "name": "stdout",
     "output_type": "stream",
     "text": [
      "1.4306765580733933\n"
     ]
    }
   ],
   "source": [
    "#Log at Any Base\n",
    "from math import log\n",
    "\n",
    "\n",
    "nplog = np.frompyfunc(log, 2, 1)\n",
    "\n",
    "print(nplog(100, 25,))\n"
   ]
  },
  {
   "cell_type": "markdown",
   "id": "d29efbda-4f33-488c-95dd-4a62ec9aa78e",
   "metadata": {},
   "source": [
    "#### Numpy Summations"
   ]
  },
  {
   "cell_type": "code",
   "execution_count": 43,
   "id": "b2862430-6660-41e1-8afb-ab2074da158c",
   "metadata": {},
   "outputs": [
    {
     "name": "stdout",
     "output_type": "stream",
     "text": [
      "330\n"
     ]
    }
   ],
   "source": [
    "#Summation\n",
    "arr = np.array([12, 34,25,45,23,56,])\n",
    "arr1 = np.array([20, 21, 22, 23, 24, 25])\n",
    "arr_sum =np.sum([arr,arr1])\n",
    "print(arr_sum)"
   ]
  },
  {
   "cell_type": "code",
   "execution_count": 46,
   "id": "5a192628-8037-4699-8ea7-823521c3ac59",
   "metadata": {},
   "outputs": [
    {
     "name": "stdout",
     "output_type": "stream",
     "text": [
      "[195 135]\n"
     ]
    }
   ],
   "source": [
    "# summmation with axis 1\n",
    "axis_1 =np.sum([arr,arr1], axis=1)\n",
    "print(axis_1)"
   ]
  },
  {
   "cell_type": "code",
   "execution_count": 47,
   "id": "26ed9bdf-6aed-400f-bec3-03738f15098b",
   "metadata": {},
   "outputs": [
    {
     "name": "stdout",
     "output_type": "stream",
     "text": [
      "[32 55 47 68 47 81]\n"
     ]
    }
   ],
   "source": [
    "# summmation with axis 0\n",
    "axis_1 =np.sum([arr,arr1], axis=0)\n",
    "print(axis_1)"
   ]
  },
  {
   "cell_type": "markdown",
   "id": "80a67ebb-6da6-4773-aff7-2d7d10737061",
   "metadata": {},
   "source": [
    "##### Cummulative Sum"
   ]
  },
  {
   "cell_type": "code",
   "execution_count": 50,
   "id": "12deea9f-fea0-4719-85af-c706ee4f6b85",
   "metadata": {},
   "outputs": [
    {
     "name": "stdout",
     "output_type": "stream",
     "text": [
      "[ 20  41  63  86 110 135]\n"
     ]
    }
   ],
   "source": [
    "\n",
    "arr1 = np.array([20, 21, 22, 23, 24, 25])\n",
    "cum_sum= np.cumsum(arr1)\n",
    "print(cum_sum)"
   ]
  },
  {
   "cell_type": "markdown",
   "id": "a713ebe6-75a8-4582-98f9-8c3174120f04",
   "metadata": {},
   "source": [
    "### Numpy Product"
   ]
  },
  {
   "cell_type": "code",
   "execution_count": 52,
   "id": "18224ed8-11d0-4f7f-a4ea-c4d661b5c2c1",
   "metadata": {},
   "outputs": [
    {
     "name": "stdout",
     "output_type": "stream",
     "text": [
      "127512000\n"
     ]
    }
   ],
   "source": [
    "# numpy product\n",
    "arr1 = np.array([20, 21, 22, 23, 24, 25])\n",
    "a = np.prod(arr1)\n",
    "print(a)"
   ]
  },
  {
   "cell_type": "code",
   "execution_count": 54,
   "id": "a9b76156-9245-4d5a-b7f5-0145e3526362",
   "metadata": {},
   "outputs": [
    {
     "name": "stdout",
     "output_type": "stream",
     "text": [
      "-1969451008\n"
     ]
    }
   ],
   "source": [
    "y= np.prod([arr,arr1])\n",
    "print(y)"
   ]
  },
  {
   "cell_type": "code",
   "execution_count": 56,
   "id": "8d53da49-a4fe-4459-9971-e3a8e9b982e2",
   "metadata": {},
   "outputs": [
    {
     "name": "stdout",
     "output_type": "stream",
     "text": [
      "[591192000 127512000]\n"
     ]
    }
   ],
   "source": [
    "axis_1 =np.prod([arr,arr1],axis=1)\n",
    "print(axis_1)"
   ]
  },
  {
   "cell_type": "code",
   "execution_count": 57,
   "id": "5a490dbb-8342-4951-8ab4-03bb7aa29761",
   "metadata": {},
   "outputs": [
    {
     "name": "stdout",
     "output_type": "stream",
     "text": [
      "[ 240  714  550 1035  552 1400]\n"
     ]
    }
   ],
   "source": [
    "axis_0 =np.prod([arr,arr1],axis=0)\n",
    "print(axis_0)"
   ]
  },
  {
   "cell_type": "code",
   "execution_count": 58,
   "id": "73fb29f7-8550-4756-be8d-cd11ba0b3c0e",
   "metadata": {},
   "outputs": [
    {
     "name": "stdout",
     "output_type": "stream",
     "text": [
      "[       12       408     10200    459000  10557000 591192000]\n"
     ]
    }
   ],
   "source": [
    "### cummulative Product\n",
    "cum_prod = np.cumprod(arr)\n",
    "\n",
    "print(cum_prod)"
   ]
  },
  {
   "cell_type": "code",
   "execution_count": null,
   "id": "f34d429a-2c33-4afb-9cbb-2dd14236e419",
   "metadata": {},
   "outputs": [],
   "source": []
  }
 ],
 "metadata": {
  "kernelspec": {
   "display_name": "Python 3 (ipykernel)",
   "language": "python",
   "name": "python3"
  },
  "language_info": {
   "codemirror_mode": {
    "name": "ipython",
    "version": 3
   },
   "file_extension": ".py",
   "mimetype": "text/x-python",
   "name": "python",
   "nbconvert_exporter": "python",
   "pygments_lexer": "ipython3",
   "version": "3.7.4"
  }
 },
 "nbformat": 4,
 "nbformat_minor": 5
}
