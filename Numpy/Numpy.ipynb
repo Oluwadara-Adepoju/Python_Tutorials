{
 "cells": [
  {
   "cell_type": "markdown",
   "metadata": {
    "id": "Kj6miLZfatgc"
   },
   "source": [
    "## Introduction to Numpy\n",
    "\n",
    "\n",
    "\n",
    "\n",
    "\n"
   ]
  },
  {
   "cell_type": "code",
   "execution_count": 1,
   "metadata": {
    "colab": {
     "base_uri": "https://localhost:8080/"
    },
    "id": "R2stijpaaBtE",
    "outputId": "0b560015-19de-4e12-ae13-a177a8a07311"
   },
   "outputs": [
    {
     "name": "stdout",
     "output_type": "stream",
     "text": [
      "[ 3  5  6  7 23]\n"
     ]
    }
   ],
   "source": [
    "#Numpy is also know as numerical python and dit is wel know fr its spped but it was created using c programming language\n",
    "#but was created to handle mathematical operations in python such as calculus, linear algebra e.t.c\n",
    "import numpy\n",
    "ar = numpy.array([3,5,6,7,23])\n",
    "print(ar)"
   ]
  },
  {
   "cell_type": "code",
   "execution_count": 2,
   "metadata": {
    "colab": {
     "base_uri": "https://localhost:8080/"
    },
    "id": "6fGWbKOfbTvU",
    "outputId": "f6f4df35-3a1b-41a5-ce8c-71fbed9be912"
   },
   "outputs": [
    {
     "name": "stdout",
     "output_type": "stream",
     "text": [
      "[ 3  5  6  7 23]\n"
     ]
    }
   ],
   "source": [
    "# Alias naming numpy can also be given an alias name . In most cases it saved as np\n",
    "import numpy as np\n",
    "\n",
    "ar = np.array([3,5,6,7,23])\n",
    "print(ar)"
   ]
  },
  {
   "cell_type": "code",
   "execution_count": 3,
   "metadata": {
    "colab": {
     "base_uri": "https://localhost:8080/"
    },
    "id": "X_4cakB4b9Zj",
    "outputId": "7ed330a6-bee2-4475-92d9-541bd3a48ecb"
   },
   "outputs": [
    {
     "data": {
      "text/plain": [
       "numpy.ndarray"
      ]
     },
     "execution_count": 3,
     "metadata": {},
     "output_type": "execute_result"
    }
   ],
   "source": [
    "## Creating Numpy Arrays\n",
    "type(ar)"
   ]
  },
  {
   "cell_type": "code",
   "execution_count": 4,
   "metadata": {
    "colab": {
     "base_uri": "https://localhost:8080/"
    },
    "id": "qNu0Jgv0ciWd",
    "outputId": "b07ebf17-ef29-4535-8890-9033ef6afd5a"
   },
   "outputs": [
    {
     "name": "stdout",
     "output_type": "stream",
     "text": [
      "[ 3  5  6  7 23]\n"
     ]
    }
   ],
   "source": [
    "## It can turn lists, tuples into an array\n",
    "ar = np.array((3,5,6,7,23))\n",
    "print(ar)"
   ]
  },
  {
   "cell_type": "markdown",
   "metadata": {},
   "source": [
    "## Array Dimensions"
   ]
  },
  {
   "cell_type": "code",
   "execution_count": 5,
   "metadata": {
    "colab": {
     "base_uri": "https://localhost:8080/"
    },
    "id": "X1OcbG9tc37y",
    "outputId": "0a1095cc-d2bb-4807-8015-914e46c65a42"
   },
   "outputs": [
    {
     "name": "stdout",
     "output_type": "stream",
     "text": [
      "15\n"
     ]
    }
   ],
   "source": [
    "# Scalar values\n",
    "scalar = np.array(15)\n",
    "print(scalar)\n",
    "# scalars are Zero dimensional Array"
   ]
  },
  {
   "cell_type": "code",
   "execution_count": 6,
   "metadata": {
    "colab": {
     "base_uri": "https://localhost:8080/"
    },
    "id": "8FpsLM7UdReK",
    "outputId": "851f1725-d2dd-44a8-f10c-a1283e6d452d"
   },
   "outputs": [
    {
     "name": "stdout",
     "output_type": "stream",
     "text": [
      "[1 3 5]\n"
     ]
    }
   ],
   "source": [
    "## 1-D Array\n",
    "ar = np.array([1, 3,  5])\n",
    "\n",
    "print(ar)"
   ]
  },
  {
   "cell_type": "code",
   "execution_count": 8,
   "metadata": {
    "colab": {
     "base_uri": "https://localhost:8080/"
    },
    "id": "50jI2uPTdnTk",
    "outputId": "0204cc66-98ac-4698-f6b0-9a22770bc1c8"
   },
   "outputs": [
    {
     "name": "stdout",
     "output_type": "stream",
     "text": [
      "[[1 2 3]\n",
      " [4 5 6]]\n"
     ]
    }
   ],
   "source": [
    "#Two dimensional array\n",
    "two_d= np.array([[1, 2, 3],\n",
    "                 [4, 5, 6]])\n",
    "\n",
    "print(two_d)"
   ]
  },
  {
   "cell_type": "code",
   "execution_count": 11,
   "metadata": {
    "colab": {
     "base_uri": "https://localhost:8080/"
    },
    "id": "W53Dcnmed3hc",
    "outputId": "acf3e21e-c096-4135-bc96-b651b0a55ddc"
   },
   "outputs": [
    {
     "name": "stdout",
     "output_type": "stream",
     "text": [
      "[[[1 2 3]\n",
      "  [4 5 6]]\n",
      "\n",
      " [[1 2 3]\n",
      "  [4 5 6]]]\n"
     ]
    }
   ],
   "source": [
    "# Three dimensional array\n",
    "three_d = np.array([[[1, 2, 3],\n",
    "                 [4, 5, 6]],\n",
    "                \n",
    "                [[1, 2, 3],\n",
    "                 [4, 5, 6]]])\n",
    "\n",
    "print(three_d)"
   ]
  },
  {
   "cell_type": "code",
   "execution_count": 12,
   "metadata": {
    "colab": {
     "base_uri": "https://localhost:8080/"
    },
    "id": "pEepKRr-eevi",
    "outputId": "5822c227-ae3a-48b9-be98-29132a150889"
   },
   "outputs": [
    {
     "name": "stdout",
     "output_type": "stream",
     "text": [
      "0\n",
      "2\n",
      "3\n"
     ]
    }
   ],
   "source": [
    "print(scalar.ndim)\n",
    "print(two_d.ndim)\n",
    "print(three_d.ndim)"
   ]
  },
  {
   "cell_type": "code",
   "execution_count": 14,
   "metadata": {
    "colab": {
     "base_uri": "https://localhost:8080/"
    },
    "id": "SUY48FZfepol",
    "outputId": "a97799d5-6750-49b6-9fbc-45f44e252438"
   },
   "outputs": [
    {
     "name": "stdout",
     "output_type": "stream",
     "text": [
      "[[[[1 3 5]]]]\n",
      "The nos of dimensions is  4\n"
     ]
    }
   ],
   "source": [
    "## We can create an array with multiple dimensions\n",
    "One_d = np.array([1, 3,  5], ndmin=4)#---> specify the number of dimensions with ndmin\n",
    "\n",
    "print(One_d)\n",
    "print('The nos of dimensions is ',One_d.ndim)"
   ]
  },
  {
   "cell_type": "code",
   "execution_count": null,
   "metadata": {
    "id": "v41efzTnfZaw"
   },
   "outputs": [],
   "source": []
  }
 ],
 "metadata": {
  "colab": {
   "name": "Numpy.ipynb",
   "provenance": []
  },
  "kernelspec": {
   "display_name": "Python 3 (ipykernel)",
   "language": "python",
   "name": "python3"
  },
  "language_info": {
   "codemirror_mode": {
    "name": "ipython",
    "version": 3
   },
   "file_extension": ".py",
   "mimetype": "text/x-python",
   "name": "python",
   "nbconvert_exporter": "python",
   "pygments_lexer": "ipython3",
   "version": "3.8.8"
  }
 },
 "nbformat": 4,
 "nbformat_minor": 4
}
