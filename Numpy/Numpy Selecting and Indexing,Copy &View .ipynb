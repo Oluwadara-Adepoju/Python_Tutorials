{
 "cells": [
  {
   "cell_type": "markdown",
   "id": "c9eae626",
   "metadata": {},
   "source": [
    "## Numpy Array Slicing"
   ]
  },
  {
   "cell_type": "code",
   "execution_count": 3,
   "id": "73e5828c",
   "metadata": {},
   "outputs": [
    {
     "name": "stdout",
     "output_type": "stream",
     "text": [
      "[2 3 4 5]\n"
     ]
    }
   ],
   "source": [
    "import numpy as np\n",
    "\n",
    "arr = np.array([1, 2, 3, 4, 5, 6, 7,8,9,10,11])\n",
    "\n",
    "print(arr[1:5])"
   ]
  },
  {
   "cell_type": "code",
   "execution_count": 6,
   "id": "867c0774",
   "metadata": {},
   "outputs": [],
   "source": [
    "# !pip install numpy\n"
   ]
  },
  {
   "cell_type": "code",
   "execution_count": 4,
   "id": "e0e23f1b",
   "metadata": {},
   "outputs": [
    {
     "data": {
      "text/plain": [
       "array([1, 2, 3, 4])"
      ]
     },
     "execution_count": 4,
     "metadata": {},
     "output_type": "execute_result"
    }
   ],
   "source": [
    "arr[:4]"
   ]
  },
  {
   "cell_type": "code",
   "execution_count": 5,
   "id": "f201788f",
   "metadata": {},
   "outputs": [
    {
     "name": "stdout",
     "output_type": "stream",
     "text": [
      "[ 5  6  7  8  9 10 11]\n"
     ]
    }
   ],
   "source": [
    "print(arr[4:])"
   ]
  },
  {
   "cell_type": "markdown",
   "id": "bebd409b",
   "metadata": {},
   "source": [
    "## Negative Slicing"
   ]
  },
  {
   "cell_type": "code",
   "execution_count": 7,
   "id": "7e6854d8",
   "metadata": {},
   "outputs": [
    {
     "name": "stdout",
     "output_type": "stream",
     "text": [
      "[ 9 10]\n"
     ]
    }
   ],
   "source": [
    "print(arr[-3:-1])# start: end\n"
   ]
  },
  {
   "cell_type": "code",
   "execution_count": 8,
   "id": "216788cc",
   "metadata": {},
   "outputs": [
    {
     "name": "stdout",
     "output_type": "stream",
     "text": [
      "[ 1  3  5  7  9 11]\n"
     ]
    }
   ],
   "source": [
    "## Step\n",
    "print(arr[::2])## Step 2"
   ]
  },
  {
   "cell_type": "code",
   "execution_count": 9,
   "id": "154d265f",
   "metadata": {},
   "outputs": [
    {
     "name": "stdout",
     "output_type": "stream",
     "text": [
      "[2 5 8]\n"
     ]
    }
   ],
   "source": [
    "print(arr[1:10:3])## step 3"
   ]
  },
  {
   "cell_type": "code",
   "execution_count": 10,
   "id": "905e3755",
   "metadata": {},
   "outputs": [
    {
     "name": "stdout",
     "output_type": "stream",
     "text": [
      "[[1 2 3]\n",
      " [4 5 6]]\n"
     ]
    }
   ],
   "source": [
    "## Slicing Two D arrays\n",
    "two_d= np.array([[1, 2, 3],\n",
    "                 [4, 5, 6]])\n",
    "\n",
    "print(two_d)"
   ]
  },
  {
   "cell_type": "code",
   "execution_count": 15,
   "id": "ff433eef",
   "metadata": {},
   "outputs": [
    {
     "data": {
      "text/plain": [
       "array([[1, 2, 3],\n",
       "       [4, 5, 6]])"
      ]
     },
     "execution_count": 15,
     "metadata": {},
     "output_type": "execute_result"
    }
   ],
   "source": [
    "two_d[:,:]"
   ]
  },
  {
   "cell_type": "code",
   "execution_count": 17,
   "id": "6676feed",
   "metadata": {},
   "outputs": [
    {
     "data": {
      "text/plain": [
       "array([2])"
      ]
     },
     "execution_count": 17,
     "metadata": {},
     "output_type": "execute_result"
    }
   ],
   "source": [
    "two_d[0:1,1]"
   ]
  },
  {
   "cell_type": "markdown",
   "id": "8a83cd33",
   "metadata": {},
   "source": [
    "### Checking the datatypes of an Array"
   ]
  },
  {
   "cell_type": "code",
   "execution_count": 20,
   "id": "fba634af",
   "metadata": {},
   "outputs": [
    {
     "data": {
      "text/plain": [
       "dtype('int32')"
      ]
     },
     "execution_count": 20,
     "metadata": {},
     "output_type": "execute_result"
    }
   ],
   "source": [
    "two_d.dtype"
   ]
  },
  {
   "cell_type": "code",
   "execution_count": 21,
   "id": "4d2994b3",
   "metadata": {},
   "outputs": [
    {
     "name": "stdout",
     "output_type": "stream",
     "text": [
      "<U6\n"
     ]
    }
   ],
   "source": [
    "numpy_str = np.array(['apple', 'banana', 'cherry'])\n",
    "\n",
    "print(numpy_str.dtype)"
   ]
  },
  {
   "cell_type": "markdown",
   "id": "900c55fe",
   "metadata": {},
   "source": [
    "### Creating Arrays With a Defined Datatype"
   ]
  },
  {
   "cell_type": "code",
   "execution_count": 22,
   "id": "738bb00f",
   "metadata": {},
   "outputs": [
    {
     "name": "stdout",
     "output_type": "stream",
     "text": [
      "[b'6' b'2' b'8' b'4']\n",
      "|S1\n"
     ]
    }
   ],
   "source": [
    "arr = np.array([6, 2, 8, 4], dtype='S')\n",
    "\n",
    "print(arr)\n",
    "print(arr.dtype)"
   ]
  },
  {
   "cell_type": "code",
   "execution_count": 23,
   "id": "3576512b",
   "metadata": {},
   "outputs": [
    {
     "name": "stdout",
     "output_type": "stream",
     "text": [
      "[6 2 8 4]\n",
      "int32\n"
     ]
    }
   ],
   "source": [
    "arr = np.array([6, 2, 8, 4], dtype='i4')\n",
    "\n",
    "print(arr)\n",
    "print(arr.dtype)"
   ]
  },
  {
   "cell_type": "markdown",
   "id": "d08849c0",
   "metadata": {},
   "source": [
    "### Converting Data Type on Existing Arrays"
   ]
  },
  {
   "cell_type": "code",
   "execution_count": 24,
   "id": "16dff505",
   "metadata": {},
   "outputs": [
    {
     "name": "stdout",
     "output_type": "stream",
     "text": [
      "float32\n"
     ]
    }
   ],
   "source": [
    "newarr= arr.astype('f')\n",
    "print(newarr.dtype)"
   ]
  },
  {
   "cell_type": "code",
   "execution_count": 25,
   "id": "136046ea",
   "metadata": {},
   "outputs": [
    {
     "data": {
      "text/plain": [
       "array([6., 2., 8., 4.], dtype=float32)"
      ]
     },
     "execution_count": 25,
     "metadata": {},
     "output_type": "execute_result"
    }
   ],
   "source": [
    "newarr"
   ]
  },
  {
   "cell_type": "code",
   "execution_count": 27,
   "id": "6832e38d",
   "metadata": {},
   "outputs": [
    {
     "name": "stdout",
     "output_type": "stream",
     "text": [
      "int32\n"
     ]
    }
   ],
   "source": [
    "newerarr=newarr.astype(int)\n",
    "print(newerarr.dtype)"
   ]
  },
  {
   "cell_type": "code",
   "execution_count": 29,
   "id": "45d52f52",
   "metadata": {},
   "outputs": [
    {
     "name": "stdout",
     "output_type": "stream",
     "text": [
      "bool\n"
     ]
    }
   ],
   "source": [
    "latest=newerarr.astype(bool)\n",
    "print(latest.dtype)"
   ]
  },
  {
   "cell_type": "code",
   "execution_count": 30,
   "id": "519de871",
   "metadata": {},
   "outputs": [
    {
     "data": {
      "text/plain": [
       "array([ True,  True,  True,  True])"
      ]
     },
     "execution_count": 30,
     "metadata": {},
     "output_type": "execute_result"
    }
   ],
   "source": [
    "latest"
   ]
  },
  {
   "cell_type": "markdown",
   "id": "2e7a4171",
   "metadata": {},
   "source": [
    "### Numpy Array Copy Vs view"
   ]
  },
  {
   "cell_type": "code",
   "execution_count": 32,
   "id": "c06a31ad",
   "metadata": {},
   "outputs": [
    {
     "name": "stdout",
     "output_type": "stream",
     "text": [
      "[21  8  3  4  9]\n",
      "[1 8 3 4 9]\n"
     ]
    }
   ],
   "source": [
    "\n",
    "a = np.array([1, 8, 3, 4, 9])\n",
    "x = a.copy()\n",
    "a[0] = 21\n",
    "\n",
    "print(a)\n",
    "print(x)"
   ]
  },
  {
   "cell_type": "code",
   "execution_count": 33,
   "id": "136bab73",
   "metadata": {},
   "outputs": [
    {
     "name": "stdout",
     "output_type": "stream",
     "text": [
      "[23  8  3  4  9]\n",
      "[23  8  3  4  9]\n"
     ]
    }
   ],
   "source": [
    "b = a.view()\n",
    "a[0]=23\n",
    "print(a)\n",
    "print(b)# The view"
   ]
  },
  {
   "cell_type": "code",
   "execution_count": 35,
   "id": "4752a14a",
   "metadata": {},
   "outputs": [
    {
     "name": "stdout",
     "output_type": "stream",
     "text": [
      "[23 45  3  4  9]\n",
      "[23 45  3  4  9]\n"
     ]
    }
   ],
   "source": [
    "#if we make changes to the view, it should affect the original\n",
    "b[1] = 45\n",
    "print(a)\n",
    "print(b)\n",
    "# the changes in the view also reflects in the original array"
   ]
  },
  {
   "cell_type": "code",
   "execution_count": 36,
   "id": "bb8eda5c",
   "metadata": {},
   "outputs": [
    {
     "name": "stdout",
     "output_type": "stream",
     "text": [
      "None\n",
      "[23 45  3  4  9]\n"
     ]
    }
   ],
   "source": [
    "# checking if an array owns its data\n",
    "print(x.base)\n",
    "print(b.base)"
   ]
  },
  {
   "cell_type": "code",
   "execution_count": null,
   "id": "a155c06c",
   "metadata": {},
   "outputs": [],
   "source": []
  }
 ],
 "metadata": {
  "kernelspec": {
   "display_name": "Python 3 (ipykernel)",
   "language": "python",
   "name": "python3"
  },
  "language_info": {
   "codemirror_mode": {
    "name": "ipython",
    "version": 3
   },
   "file_extension": ".py",
   "mimetype": "text/x-python",
   "name": "python",
   "nbconvert_exporter": "python",
   "pygments_lexer": "ipython3",
   "version": "3.8.8"
  }
 },
 "nbformat": 4,
 "nbformat_minor": 5
}
